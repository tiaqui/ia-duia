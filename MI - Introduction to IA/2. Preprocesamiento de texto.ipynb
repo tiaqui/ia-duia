{
 "cells": [
  {
   "cell_type": "markdown",
   "metadata": {
    "colab_type": "text",
    "id": "FxdFjactnzeH"
   },
   "source": [
    "# 2. Preprocesamiento de texto"
   ]
  },
  {
   "cell_type": "markdown",
   "metadata": {
    "colab_type": "text",
    "id": "FlZnH9z2SiO2"
   },
   "source": [
    "En este trabajo se carga un dataset con citas y nombres de distintos autores, realizando luego análisis y preprocesamiento de la información íncluida en este. En primer lugar, se realiza únicamente una tokenización a modo comparativo. Luego, se presentan tres alternativas de preprocesamiento, a saber:\n",
    "\n",
    "1.   Tokenización, remoción de stopwords, stemming.\n",
    "2.   Tokenización, remoción de stopwords, inclusión de n-grams, control de frecuencia mínima.\n",
    "3. Tokenización, remoción de stopwords, stemming, ponderación TF/IDF.\n",
    "\n",
    "En los primeros dos casos la tokenización y remoción de stopwords se realiza mediante el `CountVectorizer()`, mientras que en el último se realiza la tokenización con el `TfidVectorizer()` y se utiliza el diccionario de stopwords provisto por la biblioteca `ntlk`."
   ]
  },
  {
   "cell_type": "markdown",
   "metadata": {},
   "source": [
    "## Carga del dataset"
   ]
  },
  {
   "cell_type": "code",
   "execution_count": 11,
   "metadata": {},
   "outputs": [
    {
     "name": "stdout",
     "output_type": "stream",
     "text": [
      "df_quotes:\n",
      "            Author                                                                                                                                                                                      Quote\n",
      "0  Agatha Christie  I like living. I have sometimes been wildly, despairingly, acutely miserable, racked with sorrow; but through it all I still know quite certainly that just to be alive is a grand thing.\n",
      "1  Agatha Christie                                                                                The impossible could not have happened, therefore the impossible must be possible in spite of appearances. \n",
      "2  Agatha Christie                                                                                                       Poirot, I said. I have been thinking. An admirable exercise my friend. Continue it. \n",
      "3  Agatha Christie                                                                                                                    Instinct is a marvelous thing. It can neither be explained nor ignored.\n",
      "4  Agatha Christie                                                                                                                       The best time for planning a book is while you're doing the dishes. \n",
      "                    Author                                              Quote\n",
      "count                   46                                                 46\n",
      "unique                   5                                                 46\n",
      "top     Arthur Conan Doyle  There are always some lunatics about. It would...\n",
      "freq                    14                                                  1\n"
     ]
    },
    {
     "data": {
      "text/plain": [
       "['I like living. I have sometimes been wildly, despairingly, acutely miserable, racked with sorrow; but through it all I still know quite certainly that just to be alive is a grand thing.',\n",
       " 'The impossible could not have happened, therefore the impossible must be possible in spite of appearances. ',\n",
       " 'Poirot, I said. I have been thinking. An admirable exercise my friend. Continue it. ',\n",
       " 'Instinct is a marvelous thing. It can neither be explained nor ignored.',\n",
       " \"The best time for planning a book is while you're doing the dishes. \"]"
      ]
     },
     "execution_count": 11,
     "metadata": {},
     "output_type": "execute_result"
    }
   ],
   "source": [
    "# Carga el archivo desde el almacenamiento local\n",
    "import pandas as pd\n",
    "import io\n",
    "\n",
    "# Obtiene la lista de citas\n",
    "df_quotes = pd.read_csv('datasets/quotes.txt', sep='\\t')\n",
    "  \n",
    "# Muestra información de los datos leidos\n",
    "print(\"df_quotes:\")\n",
    "print(df_quotes[0:5].to_string())\n",
    "print(df_quotes.describe())\n",
    "\n",
    "# Convierte la serie en una lista\n",
    "li_quotes = df_quotes['Quote'].tolist()\n",
    "li_quotes[:5]"
   ]
  },
  {
   "cell_type": "markdown",
   "metadata": {
    "colab_type": "text",
    "id": "SB36ECxLavyq"
   },
   "source": [
    "# Preprocesamiento de texto\n",
    "\n",
    "Como primer paso, se realiza una tokenización de las frases cargadas sin aplicar ningún otro tipo de procesamiento.\n",
    "\n",
    "Se utiliza para esto el `CountVectorizer()`, mostrando luego los resultados de este proceso."
   ]
  },
  {
   "cell_type": "code",
   "execution_count": 19,
   "metadata": {
    "colab": {
     "base_uri": "https://localhost:8080/",
     "height": 35
    },
    "colab_type": "code",
    "executionInfo": {
     "elapsed": 693,
     "status": "ok",
     "timestamp": 1588608077623,
     "user": {
      "displayName": "Tomás Iaquinta",
      "photoUrl": "",
      "userId": "04399816156447454008"
     },
     "user_tz": 180
    },
    "id": "kxXshfhOnvGb",
    "outputId": "df118dbb-29b0-4315-cade-36eab4bea315"
   },
   "outputs": [
    {
     "name": "stdout",
     "output_type": "stream",
     "text": [
      "Se obtienen 459 tokens únicos, siendo el más frecuente \"the\" con 51 repeticiones.\n"
     ]
    }
   ],
   "source": [
    "from sklearn.feature_extraction.text import CountVectorizer\n",
    "\n",
    "vectorizer = CountVectorizer()\n",
    "tokens = vectorizer.fit_transform(li_quotes)\n",
    "features = vectorizer.get_feature_names()\n",
    "\n",
    "df_tokens = pd.DataFrame(tokens.toarray(), columns=features)\n",
    "\n",
    "print(f'Se obtienen {len(features)} tokens únicos' + \n",
    "      f', siendo el más frecuente \"{df_tokens.sum().idxmax()}\"' +\n",
    "       f' con {df_tokens.sum().max()} repeticiones.')"
   ]
  },
  {
   "cell_type": "markdown",
   "metadata": {
    "colab_type": "text",
    "id": "h8vLo01idlFD"
   },
   "source": [
    "Realizamos a continuación un gráfico con la frecuencia de repetición de las palabras más comunes."
   ]
  },
  {
   "cell_type": "code",
   "execution_count": 20,
   "metadata": {
    "colab": {
     "base_uri": "https://localhost:8080/",
     "height": 405
    },
    "colab_type": "code",
    "executionInfo": {
     "elapsed": 1016,
     "status": "ok",
     "timestamp": 1588608080044,
     "user": {
      "displayName": "Tomás Iaquinta",
      "photoUrl": "",
      "userId": "04399816156447454008"
     },
     "user_tz": 180
    },
    "id": "5-SidI86uKFL",
    "outputId": "276b00f6-a054-4913-f6bd-6bfd9d671583"
   },
   "outputs": [
    {
     "data": {
      "image/png": "[encoded data removed]",
      "text/plain": [
       "<Figure size 1368x432 with 1 Axes>"
      ]
     },
     "metadata": {
      "tags": []
     },
     "output_type": "display_data"
    }
   ],
   "source": [
    "import matplotlib as mpl\n",
    "mpl.rcParams['figure.figsize'] = (19,6)\n",
    "\n",
    "from yellowbrick.text import FreqDistVisualizer\n",
    "\n",
    "visualizer = FreqDistVisualizer(features=features, n=min(30,len(features)), orient='v')\n",
    "visualizer.fit(tokens)\n",
    "visualizer.ax.tick_params(axis='x', labelrotation=45, labelsize=9)\n",
    "visualizer.poof()"
   ]
  },
  {
   "cell_type": "markdown",
   "metadata": {
    "colab_type": "text",
    "id": "0cyABVEHnqlD"
   },
   "source": [
    "## Alternativa \\#1"
   ]
  },
  {
   "cell_type": "markdown",
   "metadata": {
    "colab_type": "text",
    "id": "my0azJq_uVaP"
   },
   "source": [
    "Como es de esperarse, las palabras más frecuentes corresponden a stopwords. Por esto, se realiza la remoción de las mismas con el diccionario provisto por `scikit-learn`, y repite el gráfico previo con el resultado de la operación."
   ]
  },
  {
   "cell_type": "code",
   "execution_count": 21,
   "metadata": {
    "colab": {
     "base_uri": "https://localhost:8080/",
     "height": 434
    },
    "colab_type": "code",
    "executionInfo": {
     "elapsed": 1133,
     "status": "ok",
     "timestamp": 1588608084489,
     "user": {
      "displayName": "Tomás Iaquinta",
      "photoUrl": "",
      "userId": "04399816156447454008"
     },
     "user_tz": 180
    },
    "id": "X4DuA3UUvHs8",
    "outputId": "122d8482-aceb-4a27-f818-b2b146f8d833"
   },
   "outputs": [
    {
     "data": {
      "image/png": "[encoded data removed]",
      "text/plain": [
       "<Figure size 1368x432 with 1 Axes>"
      ]
     },
     "metadata": {
      "tags": []
     },
     "output_type": "display_data"
    },
    {
     "name": "stdout",
     "output_type": "stream",
     "text": [
      "Se disminuye la cantidad de tokens únicos a 335 elementos.\n"
     ]
    }
   ],
   "source": [
    "vectorizer = CountVectorizer(stop_words='english')\n",
    "tokens = vectorizer.fit_transform(li_quotes)\n",
    "features = vectorizer.get_feature_names()\n",
    "\n",
    "visualizer = FreqDistVisualizer(features=features, n=min(30,len(features)), orient='v')\n",
    "visualizer.fit(tokens)\n",
    "visualizer.ax.tick_params(axis='x', labelrotation=45, labelsize=9)\n",
    "visualizer.poof()\n",
    "\n",
    "print(f'Se disminuye la cantidad de tokens únicos a {len(features)} elementos.')"
   ]
  },
  {
   "cell_type": "markdown",
   "metadata": {
    "colab_type": "text",
    "id": "27A7FSYw8jZo"
   },
   "source": [
    "Con esto se logra disminuir la cantidad de tokens o palabras únicas, a la vez que se evidencia en estas una frecuencia menor de aparición.\n",
    "\n",
    "Como último paso en esta alternativa de procesamiento, se desea realizar el proceso de stemming. "
   ]
  },
  {
   "cell_type": "code",
   "execution_count": 22,
   "metadata": {
    "colab": {
     "base_uri": "https://localhost:8080/",
     "height": 35
    },
    "colab_type": "code",
    "executionInfo": {
     "elapsed": 656,
     "status": "ok",
     "timestamp": 1588608092846,
     "user": {
      "displayName": "Tomás Iaquinta",
      "photoUrl": "",
      "userId": "04399816156447454008"
     },
     "user_tz": 180
    },
    "id": "CHQI-VzY44Yr",
    "outputId": "2816a4ab-0137-4def-83cc-2222d4c0f55c"
   },
   "outputs": [
    {
     "name": "stdout",
     "output_type": "stream",
     "text": [
      "En la última etapa se modificaron o eliminaron 179 tokens.\n"
     ]
    }
   ],
   "source": [
    "prev_features = features # Guardamos los features previos para comparar\n",
    "\n",
    "from nltk.stem import PorterStemmer\n",
    "\n",
    "stemmer = PorterStemmer()\n",
    "\n",
    "# Definimos un analyzer y le sumamos una función para el stemming\n",
    "analyzer = CountVectorizer(stop_words='english').build_analyzer()\n",
    "\n",
    "def stemmed_words(doc):\n",
    "    return (stemmer.stem(w) for w in analyzer(doc))\n",
    "\n",
    "vectorizer = CountVectorizer(analyzer=stemmed_words)\n",
    "tokens = vectorizer.fit_transform(li_quotes)\n",
    "features = vectorizer.get_feature_names()\n",
    "\n",
    "print('En la última etapa se modificaron o eliminaron' +\n",
    "      f' {len(set(prev_features).difference(set(features)))} tokens.')"
   ]
  },
  {
   "cell_type": "code",
   "execution_count": 23,
   "metadata": {
    "colab": {
     "base_uri": "https://localhost:8080/",
     "height": 35
    },
    "colab_type": "code",
    "executionInfo": {
     "elapsed": 670,
     "status": "ok",
     "timestamp": 1588608096991,
     "user": {
      "displayName": "Tomás Iaquinta",
      "photoUrl": "",
      "userId": "04399816156447454008"
     },
     "user_tz": 180
    },
    "id": "JolYacJH4c7M",
    "outputId": "62ea8b9a-1609-402b-d74d-ae217e809262"
   },
   "outputs": [
    {
     "name": "stdout",
     "output_type": "stream",
     "text": [
      "Se obtienen 318 tokens únicos, siendo el más frecuente \"like\" con 8 repeticiones.\n"
     ]
    }
   ],
   "source": [
    "df_tokens_1 = pd.DataFrame(tokens.toarray(), columns=features)\n",
    "\n",
    "print(f'Se obtienen {len(features)} tokens únicos' + \n",
    "      f', siendo el más frecuente \"{df_tokens_1.sum().idxmax()}\"' +\n",
    "       f' con {df_tokens_1.sum().max()} repeticiones.')"
   ]
  },
  {
   "cell_type": "markdown",
   "metadata": {
    "colab_type": "text",
    "id": "cYqqLCxG9pdq"
   },
   "source": [
    "## Alternativa \\#2"
   ]
  },
  {
   "cell_type": "markdown",
   "metadata": {
    "colab_type": "text",
    "id": "wYIMUy2q9sUr"
   },
   "source": [
    "En este caso, se le agrega a la tokenización con `CountVectorizer` realizada, la distinción de n-grams (para un n máximo de 2) además de la remoción de stopwords."
   ]
  },
  {
   "cell_type": "code",
   "execution_count": 24,
   "metadata": {
    "colab": {
     "base_uri": "https://localhost:8080/",
     "height": 35
    },
    "colab_type": "code",
    "executionInfo": {
     "elapsed": 791,
     "status": "ok",
     "timestamp": 1588608099476,
     "user": {
      "displayName": "Tomás Iaquinta",
      "photoUrl": "",
      "userId": "04399816156447454008"
     },
     "user_tz": 180
    },
    "id": "0i_MJCV025P1",
    "outputId": "23a1fd1a-398b-4f73-c232-635ad0e07b63"
   },
   "outputs": [
    {
     "name": "stdout",
     "output_type": "stream",
     "text": [
      "Se generaron 715 tokens, de los cuales 380 están compuestos por dos palabras.\n"
     ]
    }
   ],
   "source": [
    "vectorizer = CountVectorizer(stop_words='english', analyzer='word', ngram_range=(1, 2))\n",
    "tokens = vectorizer.fit_transform(li_quotes)\n",
    "features = vectorizer.get_feature_names()\n",
    "\n",
    "double = [f for f in features if ' ' in f]\n",
    "print(f'Se generaron {len(features)} tokens, de los cuales' + \n",
    "      f' {len(double)} están compuestos por dos palabras.')"
   ]
  },
  {
   "cell_type": "code",
   "execution_count": 25,
   "metadata": {
    "colab": {
     "base_uri": "https://localhost:8080/",
     "height": 432
    },
    "colab_type": "code",
    "executionInfo": {
     "elapsed": 1733,
     "status": "ok",
     "timestamp": 1588608101840,
     "user": {
      "displayName": "Tomás Iaquinta",
      "photoUrl": "",
      "userId": "04399816156447454008"
     },
     "user_tz": 180
    },
    "id": "FxUZZtyUCIwh",
    "outputId": "b05029f9-c4bb-4673-ae9f-716d1ed4edbc",
    "scrolled": true
   },
   "outputs": [
    {
     "data": {
      "image/png": "[encoded data removed]",
      "text/plain": [
       "<Figure size 1368x432 with 1 Axes>"
      ]
     },
     "metadata": {
      "tags": []
     },
     "output_type": "display_data"
    }
   ],
   "source": [
    "visualizer = FreqDistVisualizer(features=features, n=min(30,len(features)), orient='v')\n",
    "visualizer.fit(tokens)\n",
    "visualizer.ax.tick_params(axis='x', labelrotation=45, labelsize=9)\n",
    "visualizer.poof()"
   ]
  },
  {
   "cell_type": "markdown",
   "metadata": {
    "colab_type": "text",
    "id": "ALL05I_pHjq2"
   },
   "source": [
    "De los 380 tokens generados de dos palabras, vemos que una pequeña cantidad aparece entre los tokens más repetidos.\n",
    "\n",
    "Adicionalmente, se decide realizar un control de frecuencia mínima, conservando los tokens que aparecen en dos de los documentos de entrada."
   ]
  },
  {
   "cell_type": "code",
   "execution_count": 26,
   "metadata": {
    "colab": {
     "base_uri": "https://localhost:8080/",
     "height": 465
    },
    "colab_type": "code",
    "executionInfo": {
     "elapsed": 1268,
     "status": "ok",
     "timestamp": 1588608105986,
     "user": {
      "displayName": "Tomás Iaquinta",
      "photoUrl": "",
      "userId": "04399816156447454008"
     },
     "user_tz": 180
    },
    "id": "gGcBTokzDIzf",
    "outputId": "e0c8c0ac-10be-4c5c-ebb1-ab3919bb7763"
   },
   "outputs": [
    {
     "data": {
      "image/png": "[encoded data removed]",
      "text/plain": [
       "<Figure size 1368x432 with 1 Axes>"
      ]
     },
     "metadata": {
      "tags": []
     },
     "output_type": "display_data"
    },
    {
     "name": "stdout",
     "output_type": "stream",
     "text": [
      "Se conservan 5 tokens compuestos por dos palabras.\n"
     ]
    }
   ],
   "source": [
    "vectorizer = CountVectorizer(stop_words='english', analyzer='word',\n",
    "                             ngram_range=(1, 2), min_df=2)\n",
    "tokens = vectorizer.fit_transform(li_quotes)\n",
    "features = vectorizer.get_feature_names()\n",
    "\n",
    "visualizer = FreqDistVisualizer(features=features, n=min(30,len(features)), orient='v')\n",
    "visualizer.fit(tokens)\n",
    "visualizer.ax.tick_params(axis='x', labelrotation=45, labelsize=9)\n",
    "visualizer.poof()\n",
    "\n",
    "double = [f for f in features if ' ' in f]\n",
    "print(f'Se conservan {len(double)} tokens compuestos por dos palabras.')"
   ]
  },
  {
   "cell_type": "code",
   "execution_count": 27,
   "metadata": {
    "colab": {
     "base_uri": "https://localhost:8080/",
     "height": 35
    },
    "colab_type": "code",
    "executionInfo": {
     "elapsed": 649,
     "status": "ok",
     "timestamp": 1588608109309,
     "user": {
      "displayName": "Tomás Iaquinta",
      "photoUrl": "",
      "userId": "04399816156447454008"
     },
     "user_tz": 180
    },
    "id": "b5K1Ek-G5iL-",
    "outputId": "ea378b01-aee5-42fd-c1d7-06dfe49d3052"
   },
   "outputs": [
    {
     "name": "stdout",
     "output_type": "stream",
     "text": [
      "Se obtienen 53 tokens únicos, siendo el más frecuente \"like\" con 7 repeticiones.\n"
     ]
    }
   ],
   "source": [
    "df_tokens_2 = pd.DataFrame(tokens.toarray(), columns=features)\n",
    "\n",
    "print(f'Se obtienen {len(features)} tokens únicos' + \n",
    "      f', siendo el más frecuente \"{df_tokens_2.sum().idxmax()}\"' +\n",
    "       f' con {df_tokens_2.sum().max()} repeticiones.')"
   ]
  },
  {
   "cell_type": "markdown",
   "metadata": {
    "colab_type": "text",
    "id": "99KR35UG9s4E"
   },
   "source": [
    "## Alternativa \\#3"
   ]
  },
  {
   "cell_type": "markdown",
   "metadata": {
    "colab_type": "text",
    "id": "2xT8ywP19tBU"
   },
   "source": [
    "Por último, agregamos al procesamiento realizado en la primer alternativa, una normalización TF/IDF. En este caso, la tokenización se realiza directamente con el `TfidfVectorizer`, y se utiliza el diccionario de stopwords de `nltk`."
   ]
  },
  {
   "cell_type": "code",
   "execution_count": 28,
   "metadata": {
    "colab": {
     "base_uri": "https://localhost:8080/",
     "height": 446
    },
    "colab_type": "code",
    "executionInfo": {
     "elapsed": 1380,
     "status": "ok",
     "timestamp": 1588608133520,
     "user": {
      "displayName": "Tomás Iaquinta",
      "photoUrl": "",
      "userId": "04399816156447454008"
     },
     "user_tz": 180
    },
    "id": "zuKA_Z_OSJ9d",
    "outputId": "2ca54c18-23bb-46af-f2c5-abfe61060375"
   },
   "outputs": [
    {
     "name": "stdout",
     "output_type": "stream",
     "text": [
      "[nltk_data] Downloading package stopwords to /root/nltk_data...\n",
      "[nltk_data]   Package stopwords is already up-to-date!\n"
     ]
    },
    {
     "data": {
      "image/png": "[encoded data removed]",
      "text/plain": [
       "<Figure size 1368x432 with 1 Axes>"
      ]
     },
     "metadata": {
      "tags": []
     },
     "output_type": "display_data"
    }
   ],
   "source": [
    "from sklearn.feature_extraction.text import TfidfVectorizer\n",
    "import nltk\n",
    "nltk.download('stopwords')\n",
    "stop_ws = nltk.corpus.stopwords.words('english')\n",
    "\n",
    "# Construimos un nuevo analyzer\n",
    "analyzer = TfidfVectorizer(stop_words=stop_ws).build_analyzer()\n",
    "\n",
    "# Aplicamos tokenización, y stemming con la función definida previamente\n",
    "vectorizer = TfidfVectorizer(analyzer=stemmed_words) \n",
    "tokens = vectorizer.fit_transform(li_quotes)\n",
    "features = vectorizer.get_feature_names()\n",
    "\n",
    "# Realizamos mismo procesamiento sin TF/IDF para graficar\n",
    "vec_plot = CountVectorizer(analyzer=stemmed_words)\n",
    "\n",
    "visualizer = FreqDistVisualizer(features=features, n=min(30,len(features)), orient='v')\n",
    "visualizer.fit(vec_plot.fit_transform(li_quotes))\n",
    "visualizer.ax.tick_params(axis='x', labelrotation=45, labelsize=9)\n",
    "visualizer.poof()"
   ]
  },
  {
   "cell_type": "code",
   "execution_count": 29,
   "metadata": {
    "colab": {
     "base_uri": "https://localhost:8080/",
     "height": 35
    },
    "colab_type": "code",
    "executionInfo": {
     "elapsed": 677,
     "status": "ok",
     "timestamp": 1588608144592,
     "user": {
      "displayName": "Tomás Iaquinta",
      "photoUrl": "",
      "userId": "04399816156447454008"
     },
     "user_tz": 180
    },
    "id": "au-XBjy-x7bR",
    "outputId": "6b94ba00-423b-44e6-fafb-6e4f1d12b403",
    "scrolled": true
   },
   "outputs": [
    {
     "name": "stdout",
     "output_type": "stream",
     "text": [
      "Se obtienen 350 tokens únicos, siendo el de mayor valor relativo \"observ\" con un valor de 0.7071.\n"
     ]
    }
   ],
   "source": [
    "df_tokens_3 = pd.DataFrame(tokens.toarray(), columns=features)\n",
    "\n",
    "print(f'Se obtienen {len(features)} tokens únicos' + \n",
    "      f', siendo el de mayor valor relativo \"{df_tokens_3.max().idxmax()}\"' +\n",
    "       f' con un valor de {df_tokens_3.max().round(4).max()}.')"
   ]
  },
  {
   "cell_type": "markdown",
   "metadata": {
    "colab_type": "text",
    "id": "kDG0Gh_CG3Ek"
   },
   "source": [
    "# Comparación entre los resultados obtenidos"
   ]
  },
  {
   "cell_type": "code",
   "execution_count": 34,
   "metadata": {
    "colab": {
     "base_uri": "https://localhost:8080/",
     "height": 54
    },
    "colab_type": "code",
    "executionInfo": {
     "elapsed": 638,
     "status": "ok",
     "timestamp": 1588610443340,
     "user": {
      "displayName": "Tomás Iaquinta",
      "photoUrl": "",
      "userId": "04399816156447454008"
     },
     "user_tz": 180
    },
    "id": "Z1cyb_4UjH23",
    "outputId": "5b3f3984-2ed5-403a-a465-78bf03009f6b",
    "scrolled": true
   },
   "outputs": [
    {
     "name": "stdout",
     "output_type": "stream",
     "text": [
      "La cantidad de tokens obtenidos en cada alternativa de preprocesamiento son:\n",
      " 318 tokens en la primer alternativa, 53 en la segunda, y 350 en la tercera.\n"
     ]
    }
   ],
   "source": [
    "print('La cantidad de tokens obtenidos en cada alternativa de preprocesamiento son:' +\n",
    "      f'\\n {df_tokens_1.shape[1]} tokens en la primer alternativa, ' +\n",
    "      f'{df_tokens_2.shape[1]} en la segunda, y {df_tokens_3.shape[1]} en la tercera.')"
   ]
  },
  {
   "cell_type": "markdown",
   "metadata": {
    "colab_type": "text",
    "id": "ze0x6fdDkz6C"
   },
   "source": [
    "Como puede verse, el proceso de control de frecuencia mínima produce una reducción notable de la cantidad de tokens obtenidos.\n",
    "\n",
    "Para finalizar, se realiza una breve comparación, entre las tres alternativas ejecutadas, de dos de las frases analizadas."
   ]
  },
  {
   "cell_type": "code",
   "execution_count": 0,
   "metadata": {
    "colab": {},
    "colab_type": "code",
    "id": "9krNBMM8PkTq"
   },
   "outputs": [],
   "source": [
    "def get_nz(df_tokens, row=0):\n",
    "  return pd.DataFrame(df_tokens.loc[row][df_tokens.loc[row] != 0])\n",
    "\n",
    "def comp(row=0):\n",
    "  a = get_nz(df_tokens_1, row)\n",
    "  b = get_nz(df_tokens_2, row)\n",
    "  c = get_nz(df_tokens_3, row)\n",
    "  return pd.concat([a, b, c], axis=1, keys=['#1', '#2', '#3']).fillna(0)"
   ]
  },
  {
   "cell_type": "code",
   "execution_count": 55,
   "metadata": {
    "colab": {
     "base_uri": "https://localhost:8080/",
     "height": 494
    },
    "colab_type": "code",
    "executionInfo": {
     "elapsed": 654,
     "status": "ok",
     "timestamp": 1588611791991,
     "user": {
      "displayName": "Tomás Iaquinta",
      "photoUrl": "",
      "userId": "04399816156447454008"
     },
     "user_tz": 180
    },
    "id": "elFryaeh-xjr",
    "outputId": "992dd7ef-5739-4f7b-9ff8-69f7df832142"
   },
   "outputs": [
    {
     "name": "stdout",
     "output_type": "stream",
     "text": [
      "Agatha Christie\n",
      "You gave too much rein to your imagination. Imagination is a good servant, and a bad master. The simplest explanation is always the most likely.\n"
     ]
    },
    {
     "data": {
      "text/html": [
       "<div>\n",
       "<style scoped>\n",
       "    .dataframe tbody tr th:only-of-type {\n",
       "        vertical-align: middle;\n",
       "    }\n",
       "\n",
       "    .dataframe tbody tr th {\n",
       "        vertical-align: top;\n",
       "    }\n",
       "\n",
       "    .dataframe thead tr th {\n",
       "        text-align: left;\n",
       "    }\n",
       "</style>\n",
       "<table border=\"1\" class=\"dataframe\">\n",
       "  <thead>\n",
       "    <tr>\n",
       "      <th></th>\n",
       "      <th>#1</th>\n",
       "      <th>#2</th>\n",
       "      <th>#3</th>\n",
       "    </tr>\n",
       "    <tr>\n",
       "      <th></th>\n",
       "      <th>5</th>\n",
       "      <th>5</th>\n",
       "      <th>5</th>\n",
       "    </tr>\n",
       "  </thead>\n",
       "  <tbody>\n",
       "    <tr>\n",
       "      <th>bad</th>\n",
       "      <td>1.0</td>\n",
       "      <td>0.0</td>\n",
       "      <td>0.272076</td>\n",
       "    </tr>\n",
       "    <tr>\n",
       "      <th>explan</th>\n",
       "      <td>1.0</td>\n",
       "      <td>0.0</td>\n",
       "      <td>0.272076</td>\n",
       "    </tr>\n",
       "    <tr>\n",
       "      <th>gave</th>\n",
       "      <td>1.0</td>\n",
       "      <td>0.0</td>\n",
       "      <td>0.272076</td>\n",
       "    </tr>\n",
       "    <tr>\n",
       "      <th>good</th>\n",
       "      <td>1.0</td>\n",
       "      <td>1.0</td>\n",
       "      <td>0.226710</td>\n",
       "    </tr>\n",
       "    <tr>\n",
       "      <th>imagin</th>\n",
       "      <td>2.0</td>\n",
       "      <td>0.0</td>\n",
       "      <td>0.544152</td>\n",
       "    </tr>\n",
       "    <tr>\n",
       "      <th>like</th>\n",
       "      <td>1.0</td>\n",
       "      <td>0.0</td>\n",
       "      <td>0.173634</td>\n",
       "    </tr>\n",
       "    <tr>\n",
       "      <th>master</th>\n",
       "      <td>1.0</td>\n",
       "      <td>0.0</td>\n",
       "      <td>0.272076</td>\n",
       "    </tr>\n",
       "    <tr>\n",
       "      <th>rein</th>\n",
       "      <td>1.0</td>\n",
       "      <td>0.0</td>\n",
       "      <td>0.272076</td>\n",
       "    </tr>\n",
       "    <tr>\n",
       "      <th>servant</th>\n",
       "      <td>1.0</td>\n",
       "      <td>0.0</td>\n",
       "      <td>0.272076</td>\n",
       "    </tr>\n",
       "    <tr>\n",
       "      <th>simplest</th>\n",
       "      <td>1.0</td>\n",
       "      <td>0.0</td>\n",
       "      <td>0.272076</td>\n",
       "    </tr>\n",
       "    <tr>\n",
       "      <th>alway</th>\n",
       "      <td>0.0</td>\n",
       "      <td>0.0</td>\n",
       "      <td>0.173634</td>\n",
       "    </tr>\n",
       "    <tr>\n",
       "      <th>much</th>\n",
       "      <td>0.0</td>\n",
       "      <td>0.0</td>\n",
       "      <td>0.272076</td>\n",
       "    </tr>\n",
       "  </tbody>\n",
       "</table>\n",
       "</div>"
      ],
      "text/plain": [
       "           #1   #2        #3\n",
       "            5    5         5\n",
       "bad       1.0  0.0  0.272076\n",
       "explan    1.0  0.0  0.272076\n",
       "gave      1.0  0.0  0.272076\n",
       "good      1.0  1.0  0.226710\n",
       "imagin    2.0  0.0  0.544152\n",
       "like      1.0  0.0  0.173634\n",
       "master    1.0  0.0  0.272076\n",
       "rein      1.0  0.0  0.272076\n",
       "servant   1.0  0.0  0.272076\n",
       "simplest  1.0  0.0  0.272076\n",
       "alway     0.0  0.0  0.173634\n",
       "much      0.0  0.0  0.272076"
      ]
     },
     "execution_count": 55,
     "metadata": {
      "tags": []
     },
     "output_type": "execute_result"
    }
   ],
   "source": [
    "print(df_quotes.loc[5,'Author'])\n",
    "print(df_quotes.loc[5,'Quote'])\n",
    "comp(5)"
   ]
  },
  {
   "cell_type": "markdown",
   "metadata": {
    "colab_type": "text",
    "id": "zPqQKlKcktfE"
   },
   "source": [
    "En la segunda alternativa se conserva únicamente la palabra *'good'* dado el control de frecuencia mínima. Se observa que la ponderación TF/IDF asigna el valor relativo más alto al token *'imagin'*. Adicionalmente, vemos la diferencia generado al utilizar dos diccionarios de stopwords distintos, dado que *'alway'* y *'much'* no están incluídos en el de `ntlk`."
   ]
  },
  {
   "cell_type": "code",
   "execution_count": 52,
   "metadata": {
    "colab": {
     "base_uri": "https://localhost:8080/",
     "height": 35
    },
    "colab_type": "code",
    "executionInfo": {
     "elapsed": 659,
     "status": "ok",
     "timestamp": 1588611713889,
     "user": {
      "displayName": "Tomás Iaquinta",
      "photoUrl": "",
      "userId": "04399816156447454008"
     },
     "user_tz": 180
    },
    "id": "HvHmq_w_nIRb",
    "outputId": "7756a116-4415-471f-e13b-8e789d4770c5"
   },
   "outputs": [
    {
     "data": {
      "text/plain": [
       "(False, False)"
      ]
     },
     "execution_count": 52,
     "metadata": {
      "tags": []
     },
     "output_type": "execute_result"
    }
   ],
   "source": [
    "'always' in stop_ws, 'much' in stop_ws"
   ]
  },
  {
   "cell_type": "code",
   "execution_count": null,
   "metadata": {},
   "outputs": [],
   "source": []
  },
  {
   "cell_type": "code",
   "execution_count": 54,
   "metadata": {
    "colab": {
     "base_uri": "https://localhost:8080/",
     "height": 525
    },
    "colab_type": "code",
    "executionInfo": {
     "elapsed": 654,
     "status": "ok",
     "timestamp": 1588611778516,
     "user": {
      "displayName": "Tomás Iaquinta",
      "photoUrl": "",
      "userId": "04399816156447454008"
     },
     "user_tz": 180
    },
    "id": "veqAOrj9rSN_",
    "outputId": "802b0b52-ac29-4f62-f29d-a92d0f4f57dc"
   },
   "outputs": [
    {
     "name": "stdout",
     "output_type": "stream",
     "text": [
      "Arthur Conan Doyle\n",
      "It is a capital mistake to theorize before one has data. Insensibly one begins to twist facts to suit theories, instead of theories to suit facts.\n"
     ]
    },
    {
     "data": {
      "text/html": [
       "<div>\n",
       "<style scoped>\n",
       "    .dataframe tbody tr th:only-of-type {\n",
       "        vertical-align: middle;\n",
       "    }\n",
       "\n",
       "    .dataframe tbody tr th {\n",
       "        vertical-align: top;\n",
       "    }\n",
       "\n",
       "    .dataframe thead tr th {\n",
       "        text-align: left;\n",
       "    }\n",
       "</style>\n",
       "<table border=\"1\" class=\"dataframe\">\n",
       "  <thead>\n",
       "    <tr>\n",
       "      <th></th>\n",
       "      <th>#1</th>\n",
       "      <th>#2</th>\n",
       "      <th>#3</th>\n",
       "    </tr>\n",
       "    <tr>\n",
       "      <th></th>\n",
       "      <th>35</th>\n",
       "      <th>35</th>\n",
       "      <th>35</th>\n",
       "    </tr>\n",
       "  </thead>\n",
       "  <tbody>\n",
       "    <tr>\n",
       "      <th>begin</th>\n",
       "      <td>1.0</td>\n",
       "      <td>0.0</td>\n",
       "      <td>0.225508</td>\n",
       "    </tr>\n",
       "    <tr>\n",
       "      <th>capit</th>\n",
       "      <td>1.0</td>\n",
       "      <td>0.0</td>\n",
       "      <td>0.225508</td>\n",
       "    </tr>\n",
       "    <tr>\n",
       "      <th>data</th>\n",
       "      <td>1.0</td>\n",
       "      <td>0.0</td>\n",
       "      <td>0.225508</td>\n",
       "    </tr>\n",
       "    <tr>\n",
       "      <th>fact</th>\n",
       "      <td>2.0</td>\n",
       "      <td>0.0</td>\n",
       "      <td>0.375813</td>\n",
       "    </tr>\n",
       "    <tr>\n",
       "      <th>insens</th>\n",
       "      <td>1.0</td>\n",
       "      <td>0.0</td>\n",
       "      <td>0.225508</td>\n",
       "    </tr>\n",
       "    <tr>\n",
       "      <th>instead</th>\n",
       "      <td>1.0</td>\n",
       "      <td>0.0</td>\n",
       "      <td>0.225508</td>\n",
       "    </tr>\n",
       "    <tr>\n",
       "      <th>mistak</th>\n",
       "      <td>1.0</td>\n",
       "      <td>0.0</td>\n",
       "      <td>0.225508</td>\n",
       "    </tr>\n",
       "    <tr>\n",
       "      <th>suit</th>\n",
       "      <td>2.0</td>\n",
       "      <td>0.0</td>\n",
       "      <td>0.451017</td>\n",
       "    </tr>\n",
       "    <tr>\n",
       "      <th>theori</th>\n",
       "      <td>2.0</td>\n",
       "      <td>0.0</td>\n",
       "      <td>0.407025</td>\n",
       "    </tr>\n",
       "    <tr>\n",
       "      <th>theoriz</th>\n",
       "      <td>1.0</td>\n",
       "      <td>0.0</td>\n",
       "      <td>0.225508</td>\n",
       "    </tr>\n",
       "    <tr>\n",
       "      <th>twist</th>\n",
       "      <td>1.0</td>\n",
       "      <td>0.0</td>\n",
       "      <td>0.225508</td>\n",
       "    </tr>\n",
       "    <tr>\n",
       "      <th>facts</th>\n",
       "      <td>0.0</td>\n",
       "      <td>2.0</td>\n",
       "      <td>0.000000</td>\n",
       "    </tr>\n",
       "    <tr>\n",
       "      <th>one</th>\n",
       "      <td>0.0</td>\n",
       "      <td>0.0</td>\n",
       "      <td>0.287831</td>\n",
       "    </tr>\n",
       "  </tbody>\n",
       "</table>\n",
       "</div>"
      ],
      "text/plain": [
       "          #1   #2        #3\n",
       "          35   35        35\n",
       "begin    1.0  0.0  0.225508\n",
       "capit    1.0  0.0  0.225508\n",
       "data     1.0  0.0  0.225508\n",
       "fact     2.0  0.0  0.375813\n",
       "insens   1.0  0.0  0.225508\n",
       "instead  1.0  0.0  0.225508\n",
       "mistak   1.0  0.0  0.225508\n",
       "suit     2.0  0.0  0.451017\n",
       "theori   2.0  0.0  0.407025\n",
       "theoriz  1.0  0.0  0.225508\n",
       "twist    1.0  0.0  0.225508\n",
       "facts    0.0  2.0  0.000000\n",
       "one      0.0  0.0  0.287831"
      ]
     },
     "execution_count": 54,
     "metadata": {
      "tags": []
     },
     "output_type": "execute_result"
    }
   ],
   "source": [
    "print(df_quotes.loc[35,'Author'])\n",
    "print(df_quotes.loc[35,'Quote'])\n",
    "comp(35)"
   ]
  },
  {
   "cell_type": "markdown",
   "metadata": {
    "colab_type": "text",
    "id": "hffvdH0gpGqZ"
   },
   "source": [
    "Similarmente, se conserva un único token, *'facts'*, en la segunda alternativa. Este por el proceso de stemming se convierte a *'fact'* en las otras dos. Para el análisis por TF/IDF, *'suit'* obtiene el máximo valor relativo."
   ]
  }
 ],
 "metadata": {
  "kernelspec": {
   "display_name": "Python 3",
   "language": "python",
   "name": "python3"
  },
  "language_info": {
   "codemirror_mode": {
    "name": "ipython",
    "version": 3
   },
   "file_extension": ".py",
   "mimetype": "text/x-python",
   "name": "python",
   "nbconvert_exporter": "python",
   "pygments_lexer": "ipython3",
   "version": "3.7.7"
  }
 },
 "nbformat": 4,
 "nbformat_minor": 4
}
