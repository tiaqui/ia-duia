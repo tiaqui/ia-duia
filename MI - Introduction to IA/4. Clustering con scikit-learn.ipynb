{
 "cells": [
  {
   "cell_type": "markdown",
   "metadata": {},
   "source": [
    "# Clustering con scikit-learn\n",
    "\n",
    "En este trabajo se realizan tareas de preprocesamiento y clustering sobre el dataset `fetch_20newsgroups` de `scikit-learn`. Se aplican y comparan dos algoritmos de clustering, a saber:\n",
    "\n",
    "* `KMeans`\n",
    "* `AgglomerativeClustering`"
   ]
  },
  {
   "cell_type": "markdown",
   "metadata": {
    "colab_type": "text",
    "id": "kL1ZP2lpjB87"
   },
   "source": [
    "# Procesamiento sobre dataset original"
   ]
  },
  {
   "cell_type": "markdown",
   "metadata": {
    "colab_type": "text",
    "id": "KsWwcTtxTU1i"
   },
   "source": [
    "## Carga del dataset"
   ]
  },
  {
   "cell_type": "markdown",
   "metadata": {
    "colab_type": "text",
    "id": "1d5y6oFh24yJ"
   },
   "source": [
    "Se carga el dataset y se imprime información sobre el mismo."
   ]
  },
  {
   "cell_type": "code",
   "execution_count": 1,
   "metadata": {
    "colab": {
     "base_uri": "https://localhost:8080/",
     "height": 90
    },
    "colab_type": "code",
    "executionInfo": {
     "elapsed": 13819,
     "status": "ok",
     "timestamp": 1589833777326,
     "user": {
      "displayName": "Tomás Iaquinta",
      "photoUrl": "",
      "userId": "04399816156447454008"
     },
     "user_tz": 180
    },
    "id": "3hin5W6FTTj6",
    "outputId": "18528044-a0db-4616-a142-2623c46e939c"
   },
   "outputs": [
    {
     "name": "stderr",
     "output_type": "stream",
     "text": [
      "Downloading 20news dataset. This may take a few minutes.\n",
      "Downloading dataset from https://ndownloader.figshare.com/files/5975967 (14 MB)\n"
     ]
    },
    {
     "name": "stdout",
     "output_type": "stream",
     "text": [
      "Se obtienen 2977 instancias, de acuerdo a lo solicitado.\n",
      "Las etiquetas de clase son : \"0, 1, 2\"\n"
     ]
    }
   ],
   "source": [
    "from sklearn.datasets import fetch_20newsgroups\n",
    "\n",
    "categories = [\n",
    " 'rec.motorcycles',\n",
    " 'rec.sport.baseball',\n",
    " 'sci.space',\n",
    "]\n",
    "\n",
    "df = fetch_20newsgroups(subset='all',remove=('headers', 'footers', 'quotes'), categories=categories,\n",
    "                             shuffle=True, random_state=42)\n",
    "\n",
    "print(f'Se obtienen {len(df.data)} instancias, de acuerdo a lo solicitado.')\n",
    "print('Las etiquetas de clase son : \"' + str(set(df.target))[1:-1] + '\"')"
   ]
  },
  {
   "cell_type": "code",
   "execution_count": 2,
   "metadata": {
    "colab": {
     "base_uri": "https://localhost:8080/",
     "height": 531
    },
    "colab_type": "code",
    "executionInfo": {
     "elapsed": 13809,
     "status": "ok",
     "timestamp": 1589833777328,
     "user": {
      "displayName": "Tomás Iaquinta",
      "photoUrl": "",
      "userId": "04399816156447454008"
     },
     "user_tz": 180
    },
    "id": "kyCVPGVNsnv4",
    "outputId": "606dcba8-7565-4c02-9f00-6e1049108311"
   },
   "outputs": [
    {
     "name": "stdout",
     "output_type": "stream",
     "text": [
      ".. _20newsgroups_dataset:\n",
      "\n",
      "The 20 newsgroups text dataset\n",
      "------------------------------\n",
      "\n",
      "The 20 newsgroups dataset comprises around 18000 newsgroups posts on\n",
      "20 topics split in two subsets: one for training (or development)\n",
      "and the other one for testing (or for performance evaluation). The split\n",
      "between the train and test set is based upon a messages posted before\n",
      "and after a specific date.\n",
      "\n",
      "This module contains two loaders. The first one,\n",
      ":func:`sklearn.datasets.fetch_20newsgroups`,\n",
      "returns a list of the raw texts that can be fed to text feature\n",
      "extractors such as :class:`sklearn.feature_extraction.text.CountVectorizer`\n",
      "with custom parameters so as to extract feature vectors.\n",
      "The second one, :func:`sklearn.datasets.fetch_20newsgroups_vectorized`,\n",
      "returns ready-to-use features, i.e., it is not necessary to use a feature\n",
      "extractor.\n",
      "\n",
      "**Data Set Characteristics:**\n",
      "\n",
      "    =================   ==========\n",
      "    Classes                     20\n",
      "    Samples total            18846\n",
      "    Dimensionality               1\n",
      "    Features                  text\n",
      "    =================   ==========\n"
     ]
    }
   ],
   "source": [
    "print(df.DESCR[:1085])"
   ]
  },
  {
   "cell_type": "markdown",
   "metadata": {
    "colab_type": "text",
    "id": "Qrxz9fU1-ryQ"
   },
   "source": [
    "El dataset contiene una colección de noticias sobre 20 tópicos diferentes, conformando un total de 18846 instancias, divididas en un subset para train y otro para test (al especificar `subset='all'` se obtienen los datos de ambos).\n",
    "\n",
    "A pesar de existir un extractor adicional, `fetch_20newsgroups_vectorized`, con la información de texto preprocesada, se obtienen los datos en una dimensión y le realizamos tareas de preprocesamiento."
   ]
  },
  {
   "cell_type": "code",
   "execution_count": 3,
   "metadata": {
    "colab": {
     "base_uri": "https://localhost:8080/",
     "height": 424
    },
    "colab_type": "code",
    "executionInfo": {
     "elapsed": 13801,
     "status": "ok",
     "timestamp": 1589833777330,
     "user": {
      "displayName": "Tomás Iaquinta",
      "photoUrl": "",
      "userId": "04399816156447454008"
     },
     "user_tz": 180
    },
    "id": "5VMIpoAoGiW9",
    "outputId": "e5ed905c-43bc-44a3-f9c6-41a62ce76976"
   },
   "outputs": [
    {
     "data": {
      "text/html": [
       "<div>\n",
       "<style scoped>\n",
       "    .dataframe tbody tr th:only-of-type {\n",
       "        vertical-align: middle;\n",
       "    }\n",
       "\n",
       "    .dataframe tbody tr th {\n",
       "        vertical-align: top;\n",
       "    }\n",
       "\n",
       "    .dataframe thead th {\n",
       "        text-align: right;\n",
       "    }\n",
       "</style>\n",
       "<table border=\"1\" class=\"dataframe\">\n",
       "  <thead>\n",
       "    <tr style=\"text-align: right;\">\n",
       "      <th></th>\n",
       "      <th>news</th>\n",
       "      <th>class</th>\n",
       "    </tr>\n",
       "  </thead>\n",
       "  <tbody>\n",
       "    <tr>\n",
       "      <th>0</th>\n",
       "      <td>Wednesday's game of Beloved Yakult Swallows\\n\\...</td>\n",
       "      <td>1</td>\n",
       "    </tr>\n",
       "    <tr>\n",
       "      <th>1</th>\n",
       "      <td>\\nOkay, I think we all agree that singles hitt...</td>\n",
       "      <td>1</td>\n",
       "    </tr>\n",
       "    <tr>\n",
       "      <th>2</th>\n",
       "      <td>Having run completely out of time, I've got to...</td>\n",
       "      <td>1</td>\n",
       "    </tr>\n",
       "    <tr>\n",
       "      <th>3</th>\n",
       "      <td>To Mr. Millitello -\\n\\n\\tListen, Sammy, can yo...</td>\n",
       "      <td>1</td>\n",
       "    </tr>\n",
       "    <tr>\n",
       "      <th>4</th>\n",
       "      <td>\\n\\nHey! I LIKE quiche, even if I did have to ...</td>\n",
       "      <td>0</td>\n",
       "    </tr>\n",
       "    <tr>\n",
       "      <th>...</th>\n",
       "      <td>...</td>\n",
       "      <td>...</td>\n",
       "    </tr>\n",
       "    <tr>\n",
       "      <th>2972</th>\n",
       "      <td>The Centaur is controlled technology..\\nState ...</td>\n",
       "      <td>2</td>\n",
       "    </tr>\n",
       "    <tr>\n",
       "      <th>2973</th>\n",
       "      <td></td>\n",
       "      <td>0</td>\n",
       "    </tr>\n",
       "    <tr>\n",
       "      <th>2974</th>\n",
       "      <td>\\n\\nWho says there is no mineral rights to be ...</td>\n",
       "      <td>2</td>\n",
       "    </tr>\n",
       "    <tr>\n",
       "      <th>2975</th>\n",
       "      <td>\\n [ etc. ]\\n\\nHey, he's the only manager so f...</td>\n",
       "      <td>1</td>\n",
       "    </tr>\n",
       "    <tr>\n",
       "      <th>2976</th>\n",
       "      <td>\\n\\nBut with cheaper fuel from space based sou...</td>\n",
       "      <td>2</td>\n",
       "    </tr>\n",
       "  </tbody>\n",
       "</table>\n",
       "<p>2977 rows × 2 columns</p>\n",
       "</div>"
      ],
      "text/plain": [
       "                                                   news  class\n",
       "0     Wednesday's game of Beloved Yakult Swallows\\n\\...      1\n",
       "1     \\nOkay, I think we all agree that singles hitt...      1\n",
       "2     Having run completely out of time, I've got to...      1\n",
       "3     To Mr. Millitello -\\n\\n\\tListen, Sammy, can yo...      1\n",
       "4     \\n\\nHey! I LIKE quiche, even if I did have to ...      0\n",
       "...                                                 ...    ...\n",
       "2972  The Centaur is controlled technology..\\nState ...      2\n",
       "2973                                                         0\n",
       "2974  \\n\\nWho says there is no mineral rights to be ...      2\n",
       "2975  \\n [ etc. ]\\n\\nHey, he's the only manager so f...      1\n",
       "2976  \\n\\nBut with cheaper fuel from space based sou...      2\n",
       "\n",
       "[2977 rows x 2 columns]"
      ]
     },
     "execution_count": 3,
     "metadata": {
      "tags": []
     },
     "output_type": "execute_result"
    }
   ],
   "source": [
    "import pandas as pd\n",
    "import warnings\n",
    "warnings.simplefilter(action='ignore', category=FutureWarning)\n",
    "\n",
    "df_data = pd.concat([pd.DataFrame(df.data,columns=['news']),pd.DataFrame(df.target,columns=['class'])], axis=1)\n",
    "df_data"
   ]
  },
  {
   "cell_type": "markdown",
   "metadata": {
    "colab_type": "text",
    "id": "3rtRcz9kccyU"
   },
   "source": [
    "Puede verse la existencia de instancias vacías (sin contenido de texto), a continuación se obtiene información sobre la longitud, en caracteres, de las noticias."
   ]
  },
  {
   "cell_type": "code",
   "execution_count": 4,
   "metadata": {
    "colab": {
     "base_uri": "https://localhost:8080/",
     "height": 182
    },
    "colab_type": "code",
    "executionInfo": {
     "elapsed": 13792,
     "status": "ok",
     "timestamp": 1589833777332,
     "user": {
      "displayName": "Tomás Iaquinta",
      "photoUrl": "",
      "userId": "04399816156447454008"
     },
     "user_tz": 180
    },
    "id": "JVepkOP7b1em",
    "outputId": "de5daf64-b06a-4623-8ac7-46cec5fb2176"
   },
   "outputs": [
    {
     "data": {
      "text/plain": [
       "count     2977.00\n",
       "mean       835.46\n",
       "std       2151.86\n",
       "min          0.00\n",
       "25%        195.00\n",
       "50%        411.00\n",
       "75%        834.00\n",
       "max      56793.00\n",
       "Name: news, dtype: float64"
      ]
     },
     "execution_count": 4,
     "metadata": {
      "tags": []
     },
     "output_type": "execute_result"
    }
   ],
   "source": [
    "df_data.loc[:,'news'].str.len().describe().round(2)"
   ]
  },
  {
   "cell_type": "markdown",
   "metadata": {
    "colab_type": "text",
    "id": "A72zIuaSGk4p"
   },
   "source": [
    "## Preprocesamiento de texto"
   ]
  },
  {
   "cell_type": "markdown",
   "metadata": {
    "colab_type": "text",
    "id": "ef1ax-bJeC6k"
   },
   "source": [
    "Por lo visto, el primer paso en el preprocesamiento es el de eliminar las instancias que no contengan información relevante. Se determina conservar las que tengan más de 10 caracteres. A continuación, se genera un `DataFrame`, separando luego el mismo en sus etiquetas de clase (`labels`), y el contenido de texto (`news`)."
   ]
  },
  {
   "cell_type": "code",
   "execution_count": 5,
   "metadata": {
    "colab": {
     "base_uri": "https://localhost:8080/",
     "height": 35
    },
    "colab_type": "code",
    "executionInfo": {
     "elapsed": 13785,
     "status": "ok",
     "timestamp": 1589833777334,
     "user": {
      "displayName": "Tomás Iaquinta",
      "photoUrl": "",
      "userId": "04399816156447454008"
     },
     "user_tz": 180
    },
    "id": "-HUafX-QaPeQ",
    "outputId": "633c75fd-939c-4e69-e7f9-4c30999a510a"
   },
   "outputs": [
    {
     "name": "stdout",
     "output_type": "stream",
     "text": [
      "2875\n"
     ]
    }
   ],
   "source": [
    "df_data = df_data[df_data.loc[:,'news'].str.len() > 10]\n",
    "print(len(df_data))\n",
    "\n",
    "labels = df_data['class']\n",
    "dataset = df_data['news']"
   ]
  },
  {
   "cell_type": "code",
   "execution_count": 6,
   "metadata": {
    "colab": {
     "base_uri": "https://localhost:8080/",
     "height": 175
    },
    "colab_type": "code",
    "executionInfo": {
     "elapsed": 13776,
     "status": "ok",
     "timestamp": 1589833777335,
     "user": {
      "displayName": "Tomás Iaquinta",
      "photoUrl": "",
      "userId": "04399816156447454008"
     },
     "user_tz": 180
    },
    "id": "H7n1AKj6ebZO",
    "outputId": "ef192f23-663c-466f-c2e0-e884a4fa1d7c"
   },
   "outputs": [
    {
     "data": {
      "text/html": [
       "<div>\n",
       "<style scoped>\n",
       "    .dataframe tbody tr th:only-of-type {\n",
       "        vertical-align: middle;\n",
       "    }\n",
       "\n",
       "    .dataframe tbody tr th {\n",
       "        vertical-align: top;\n",
       "    }\n",
       "\n",
       "    .dataframe thead th {\n",
       "        text-align: right;\n",
       "    }\n",
       "</style>\n",
       "<table border=\"1\" class=\"dataframe\">\n",
       "  <thead>\n",
       "    <tr style=\"text-align: right;\">\n",
       "      <th></th>\n",
       "      <th>news</th>\n",
       "    </tr>\n",
       "    <tr>\n",
       "      <th>class</th>\n",
       "      <th></th>\n",
       "    </tr>\n",
       "  </thead>\n",
       "  <tbody>\n",
       "    <tr>\n",
       "      <th>0</th>\n",
       "      <td>965</td>\n",
       "    </tr>\n",
       "    <tr>\n",
       "      <th>1</th>\n",
       "      <td>955</td>\n",
       "    </tr>\n",
       "    <tr>\n",
       "      <th>2</th>\n",
       "      <td>955</td>\n",
       "    </tr>\n",
       "  </tbody>\n",
       "</table>\n",
       "</div>"
      ],
      "text/plain": [
       "       news\n",
       "class      \n",
       "0       965\n",
       "1       955\n",
       "2       955"
      ]
     },
     "execution_count": 6,
     "metadata": {
      "tags": []
     },
     "output_type": "execute_result"
    }
   ],
   "source": [
    "df_data.groupby('class').count()"
   ]
  },
  {
   "cell_type": "markdown",
   "metadata": {
    "colab_type": "text",
    "id": "ap4BkuwxegD1"
   },
   "source": [
    "Se eliminan así aproximadamente 100 instancias, adicionalmente se ve que la cantidad de instancias por clase es similar.\n",
    "\n",
    "Luego de realizar pruebas sobre el texto se determinan finalmente la aplicación de las siguientes tareas:\n",
    "\n",
    "* Eliminación de instancias con menos de 10 caracteres.\n",
    "* Conservación únicamente de tokens alfabéticos.\n",
    "* Remoción de stop words.\n",
    "* Stemming.\n",
    "* Inclusión de n-grams (hasta 2 palabras).\n",
    "* Control de frecuencia mínima (5 documentos).\n",
    "* Generación de matriz TF/IDF.\n",
    "\n",
    "Principalmente, se busca conservar la información más relevante de cada instancia, lo que se logra a través de la remoción de las stop words y el proceso de stemming. Con la generación de la matriz TF/IDF le asignamos un peso a cada token y para cada instancia, relacionado a su importancia relativa en la misma. La eliminación de los tokens que contienen números, se determina luego de un primer análisis.\n",
    "\n",
    "Para determinar la cantidad de n-gramas a incluir, y el control de frecuencia mínima, se realiza un clustering de ejemplo, variando los dos primeros parámetros y evaluando las métricas de acuerdo a un criterio externo. Para esto se utiliza un algoritmo jerárquico (`AgglomerativeClustering`), colocando como único parámetro la cantidad de clusters a encontrar (en este caso 3, la misma cantidad de etiquetas de clase), y utilizando el resto por defecto. Luego de ejecutar algunos ciclos `for`, se observa que se obtiene un mejor valor de `v-measure` conservando los tokens que se mantienen en al menos 5 documentos, e incluyendo n-gramas de hasta 2 palabras."
   ]
  },
  {
   "cell_type": "code",
   "execution_count": 7,
   "metadata": {
    "colab": {
     "base_uri": "https://localhost:8080/",
     "height": 35
    },
    "colab_type": "code",
    "executionInfo": {
     "elapsed": 18991,
     "status": "ok",
     "timestamp": 1589833782561,
     "user": {
      "displayName": "Tomás Iaquinta",
      "photoUrl": "",
      "userId": "04399816156447454008"
     },
     "user_tz": 180
    },
    "id": "DfQVwU2JIKYG",
    "outputId": "df3077ab-90b9-49fb-9676-d636463ff35b"
   },
   "outputs": [
    {
     "name": "stdout",
     "output_type": "stream",
     "text": [
      "Son generados para el dataset, 5912 tokens únicos\n"
     ]
    }
   ],
   "source": [
    "from sklearn.feature_extraction.text import CountVectorizer, TfidfVectorizer, \\\n",
    "ENGLISH_STOP_WORDS\n",
    "from nltk.stem import PorterStemmer\n",
    "\n",
    "# Creamos el stemmer\n",
    "stemmer = PorterStemmer()\n",
    "\n",
    "# Construimos un tokenizer\n",
    "tokenizer = CountVectorizer().build_tokenizer()\n",
    "\n",
    "# Obtenemos las stopwords que provee scikit-learn\n",
    "stop_words = ENGLISH_STOP_WORDS\n",
    "\n",
    "# Definimos una función que aplica el stemming luego de tokenizar y remover stopwords\n",
    "def  stem_tokenizer(doc):\n",
    "    # Aplica la tokenización\n",
    "    tokens = tokenizer(doc)\n",
    "    # Retorna la lista de tokens luego de aplicar stemming si no es un stopword\n",
    "    return list(stemmer.stem(w) for w in tokens if w not in stop_words and w.isalpha()) \n",
    "\n",
    "# Aplicamos el procesamiento\n",
    "vectorizer = TfidfVectorizer(tokenizer=stem_tokenizer, ngram_range=(1,2), min_df=5)\n",
    "tokens = vectorizer.fit_transform(dataset.tolist())\n",
    "features = vectorizer.get_feature_names()\n",
    "\n",
    "df_tokens = pd.DataFrame(tokens.toarray(), columns=features)\n",
    "print(f'Son generados para el dataset, {df_tokens.shape[1]} tokens únicos')"
   ]
  },
  {
   "cell_type": "code",
   "execution_count": 8,
   "metadata": {
    "colab": {
     "base_uri": "https://localhost:8080/",
     "height": 109
    },
    "colab_type": "code",
    "executionInfo": {
     "elapsed": 18983,
     "status": "ok",
     "timestamp": 1589833782563,
     "user": {
      "displayName": "Tomás Iaquinta",
      "photoUrl": "",
      "userId": "04399816156447454008"
     },
     "user_tz": 180
    },
    "id": "osfboqDHIawU",
    "outputId": "2c0afd0b-29ac-43a4-c8c5-b62ac201c950"
   },
   "outputs": [
    {
     "data": {
      "text/plain": [
       "Index(['bastard', 'bat', 'bat averag', 'bat eye', 'bats', 'batter',\n",
       "       'batter box', 'batteri', 'battl', 'bay', 'bay area', 'baylor', 'bb',\n",
       "       'bb access', 'bb updat', 'bc', 'bc canada', 'bchm', 'bchm biochem',\n",
       "       'bdi'],\n",
       "      dtype='object')"
      ]
     },
     "execution_count": 8,
     "metadata": {
      "tags": []
     },
     "output_type": "execute_result"
    }
   ],
   "source": [
    "df_tokens.columns[420:440]"
   ]
  },
  {
   "cell_type": "markdown",
   "metadata": {
    "colab_type": "text",
    "id": "LLfyjH8cbg1o"
   },
   "source": [
    "Finalmente, se eliminan las filas que no muestren valor para ningún token, estas intancias no se consideran representativas de las clases. Este proceso ayuda a evitar errores posteriores con los algoritmos de clustering.\n",
    "\n",
    "Se realiza el mismo paso sobre el `DataFrame` original, principalmente para afectar de igual manera a las etiquetas de clase."
   ]
  },
  {
   "cell_type": "code",
   "execution_count": 9,
   "metadata": {
    "colab": {
     "base_uri": "https://localhost:8080/",
     "height": 35
    },
    "colab_type": "code",
    "executionInfo": {
     "elapsed": 18976,
     "status": "ok",
     "timestamp": 1589833782566,
     "user": {
      "displayName": "Tomás Iaquinta",
      "photoUrl": "",
      "userId": "04399816156447454008"
     },
     "user_tz": 180
    },
    "id": "nZShS4QrXjXd",
    "outputId": "5a0d4d69-fc79-4da7-e4e6-ee7604dd70a7"
   },
   "outputs": [
    {
     "name": "stdout",
     "output_type": "stream",
     "text": [
      "Se eliminan 12 instancias en este último paso.\n"
     ]
    }
   ],
   "source": [
    "mask = (df_tokens != 0).any(axis=1)\n",
    "\n",
    "print(f'Se eliminan {len(df_tokens[mask == False].index)} instancias en este último paso.')\n",
    "\n",
    "df_data = df_data.drop(df_tokens[mask == False].index)\n",
    "df_tokens = df_tokens.drop(df_tokens[mask == False].index)\n",
    "\n",
    "labels = df_data['class']\n",
    "dataset = df_data['news']"
   ]
  },
  {
   "cell_type": "markdown",
   "metadata": {
    "colab_type": "text",
    "id": "wAXJxZuBOtwN"
   },
   "source": [
    "## Clustering"
   ]
  },
  {
   "cell_type": "markdown",
   "metadata": {
    "colab_type": "text",
    "id": "F10rUjHNRfYT"
   },
   "source": [
    "En este caso, la finalidad de aplicar tareas de clustering es el de buscar un agrupamiento de los datos que logre asemejarse al ground truth. Por esto, se evaluarán los algoritmos de clustering, principalmente, por la capacidad que tengan de descubrir estas clases implícitas (criterio externo).\n",
    "\n",
    "Los algoritmos a utilizar son el `KMeans` y `AgglomerativeClustering` de `scikit-learn`, de K-means y clustering jerárquico aglomerativo del tipo bottom-up."
   ]
  },
  {
   "cell_type": "code",
   "execution_count": 0,
   "metadata": {
    "colab": {},
    "colab_type": "code",
    "id": "_18R1qvPn0Ll"
   },
   "outputs": [],
   "source": [
    "from sklearn.cluster import KMeans, AgglomerativeClustering\n",
    "\n",
    "km = KMeans(n_clusters=3, \n",
    "            init='k-means++', \n",
    "\n",
    "            max_iter=300,\n",
    "            tol=1e-04,\n",
    "            random_state=0)\n",
    "\n",
    "ac = AgglomerativeClustering(n_clusters=3)"
   ]
  },
  {
   "cell_type": "markdown",
   "metadata": {
    "colab_type": "text",
    "id": "Z5V35R36Vsna"
   },
   "source": [
    "En el algoritmos de K-means, los parámetros utilizados son:\n",
    "\n",
    "* **k = 3**. De manera de generar la misma cantidad de clusters que las clases implícitas.\n",
    "* **`init = 'k-means++'`**. Se busca una mejor elección de las semillas en la inicialización del algoritmo de clustering.\n",
    "* **tol = $1.10^{-4}$**, **max_iter = 300**. Estos determinan la cantidad de ciclos que se ejecutarán. La tolerancia determina el criterio de terminación, respecto a los cambios registrados en el SSE (suma de errores cuadráticos). De no satisfacerse esta condición, se realiza una iteración de 300 ciclos.\n",
    "\n",
    "Para el algoritmo `AgglomerativeClustering`, se indica la cantidad de clusters a encontrar, siendo **`n_clusters = 3`**. Por defecto, la función de similitud es utilizada es **`linkage = 'ward'`**, que minimiza la varianza de los grupos a unir. Se evaluarán diferentes funciones, a modo de probar su eficacia en este problema. En ambos se utiliza la distancia Euclideana (se intentó computar la similitud de coseno y utilizar otras funciones de similitud, pero no se obtuvieron resultados satisfactorios)."
   ]
  },
  {
   "cell_type": "markdown",
   "metadata": {
    "colab_type": "text",
    "id": "0KY0-Zuhds_-"
   },
   "source": [
    "## Evaluación de los resultados"
   ]
  },
  {
   "cell_type": "markdown",
   "metadata": {
    "colab_type": "text",
    "id": "ujuAP-SzRYvP"
   },
   "source": [
    "Principalmente, cabe evaluar los modelos a través de un criterio externo. De esta manera se puede saber su capacidad de agrupar en lso clusters a elementos pertenecientes a la misma clase implícita. \n",
    "\n",
    "A continuación, se realizan predicciones y se las compara con el ground truth, a través de las cuatro métricas salientes bajo este criterio: **Homogeneity**, **Completeness**, **V-Measure** y **Rand Index**."
   ]
  },
  {
   "cell_type": "code",
   "execution_count": 11,
   "metadata": {
    "colab": {
     "base_uri": "https://localhost:8080/",
     "height": 274
    },
    "colab_type": "code",
    "executionInfo": {
     "elapsed": 55804,
     "status": "ok",
     "timestamp": 1589833819420,
     "user": {
      "displayName": "Tomás Iaquinta",
      "photoUrl": "",
      "userId": "04399816156447454008"
     },
     "user_tz": 180
    },
    "id": "ZLUhYwOwOEDc",
    "outputId": "6c23d0c5-acf3-467f-80f9-981b47e095d4"
   },
   "outputs": [
    {
     "name": "stdout",
     "output_type": "stream",
     "text": [
      "K-Means:\n",
      "Homogeneity: 0.291\n",
      "Completeness: 0.330\n",
      "V-Measure: 0.309\n",
      "Adjusted Rand-Index: 0.249\n",
      "\n",
      "\n",
      "Jerárquico Aglomerativo:\n",
      "Homogeneity: 0.251\n",
      "Completeness: 0.279\n",
      "V-Measure: 0.264\n",
      "Adjusted Rand-Index: 0.224\n",
      "\n",
      "\n"
     ]
    }
   ],
   "source": [
    "from sklearn import metrics\n",
    "\n",
    "dict_cl = {km: 'K-Means', ac: 'Jerárquico Aglomerativo'}\n",
    "\n",
    "for key, value in dict_cl.items():\n",
    "  labels_pred = key.fit_predict(df_tokens.to_numpy())\n",
    "  h, c, v = metrics.homogeneity_completeness_v_measure(labels, labels_pred)\n",
    "  print(value + ':')\n",
    "  print('Homogeneity: %.3f' %h)\n",
    "  print('Completeness: %.3f' %c)\n",
    "  print('V-Measure: %.3f' %v)\n",
    "  print('Adjusted Rand-Index: %.3f'\n",
    "      % metrics.adjusted_rand_score(labels, labels_pred))\n",
    "  print('\\n')"
   ]
  },
  {
   "cell_type": "markdown",
   "metadata": {
    "colab_type": "text",
    "id": "XBNPcohei8Rt"
   },
   "source": [
    "# Procesamiento sobre dataset filtrado"
   ]
  },
  {
   "cell_type": "markdown",
   "metadata": {
    "colab_type": "text",
    "id": "aqzNJrycy1uV"
   },
   "source": [
    "A continuación, se repite el procesamiento y análisis, llevado a cabo con el dataset anterior, a uno de similares características pero previamente filtrado, con lo que se tienen diferentes instancias.\n"
   ]
  },
  {
   "cell_type": "markdown",
   "metadata": {
    "colab_type": "text",
    "id": "tgCb7IE9SGKQ"
   },
   "source": [
    "## Carga del dataset"
   ]
  },
  {
   "cell_type": "code",
   "execution_count": 13,
   "metadata": {
    "colab": {
     "base_uri": "https://localhost:8080/",
     "height": 303,
     "resources": {
      "http://localhost:8080/nbextensions/google.colab/files.js": {
       "data": "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",
       "headers": [
        [
         "content-type",
         "application/javascript"
        ]
       ],
       "ok": true,
       "status": 200,
       "status_text": "OK"
      }
     }
    },
    "colab_type": "code",
    "executionInfo": {
     "elapsed": 30230,
     "status": "ok",
     "timestamp": 1589833884655,
     "user": {
      "displayName": "Tomás Iaquinta",
      "photoUrl": "",
      "userId": "04399816156447454008"
     },
     "user_tz": 180
    },
    "id": "iKsbjnrlbZ7p",
    "outputId": "0a4a2fe7-d95c-4118-830a-9f7b3618f083"
   },
   "outputs": [
    {
     "data": {
      "text/html": [
       "\n",
       "     <input type=\"file\" id=\"files-b2afa97e-c1be-44c7-a4e8-f5138628ffc7\" name=\"files[]\" multiple disabled />\n",
       "     <output id=\"result-b2afa97e-c1be-44c7-a4e8-f5138628ffc7\">\n",
       "      Upload widget is only available when the cell has been executed in the\n",
       "      current browser session. Please rerun this cell to enable.\n",
       "      </output>\n",
       "      <script src=\"/nbextensions/google.colab/files.js\"></script> "
      ],
      "text/plain": [
       "<IPython.core.display.HTML object>"
      ]
     },
     "metadata": {
      "tags": []
     },
     "output_type": "display_data"
    },
    {
     "name": "stdout",
     "output_type": "stream",
     "text": [
      "Saving news-filtered.csv to news-filtered (6).csv\n",
      "Se subió el archivo news-filtered.csv con longitud 2028466\n",
      "Se cargaron 1692 instancias\n"
     ]
    },
    {
     "data": {
      "text/html": [
       "<div>\n",
       "<style scoped>\n",
       "    .dataframe tbody tr th:only-of-type {\n",
       "        vertical-align: middle;\n",
       "    }\n",
       "\n",
       "    .dataframe tbody tr th {\n",
       "        vertical-align: top;\n",
       "    }\n",
       "\n",
       "    .dataframe thead th {\n",
       "        text-align: right;\n",
       "    }\n",
       "</style>\n",
       "<table border=\"1\" class=\"dataframe\">\n",
       "  <thead>\n",
       "    <tr style=\"text-align: right;\">\n",
       "      <th></th>\n",
       "      <th>Unnamed: 0</th>\n",
       "      <th>class</th>\n",
       "      <th>news</th>\n",
       "    </tr>\n",
       "  </thead>\n",
       "  <tbody>\n",
       "    <tr>\n",
       "      <th>0</th>\n",
       "      <td>2249</td>\n",
       "      <td>1</td>\n",
       "      <td>I thought I'd post my predicted standings sinc...</td>\n",
       "    </tr>\n",
       "    <tr>\n",
       "      <th>1</th>\n",
       "      <td>2748</td>\n",
       "      <td>2</td>\n",
       "      <td>Archive-name: space/acronyms\\nEdition: 8\\n\\nAc...</td>\n",
       "    </tr>\n",
       "    <tr>\n",
       "      <th>2</th>\n",
       "      <td>1144</td>\n",
       "      <td>1</td>\n",
       "      <td>Philadelphia at Chicago:  Teams tied for 1st a...</td>\n",
       "    </tr>\n",
       "    <tr>\n",
       "      <th>3</th>\n",
       "      <td>1509</td>\n",
       "      <td>2</td>\n",
       "      <td>Archive-name: space/new_probes\\nLast-modified:...</td>\n",
       "    </tr>\n",
       "    <tr>\n",
       "      <th>4</th>\n",
       "      <td>2</td>\n",
       "      <td>1</td>\n",
       "      <td>Having run completely out of time, I've got to...</td>\n",
       "    </tr>\n",
       "  </tbody>\n",
       "</table>\n",
       "</div>"
      ],
      "text/plain": [
       "   Unnamed: 0  class                                               news\n",
       "0        2249      1  I thought I'd post my predicted standings sinc...\n",
       "1        2748      2  Archive-name: space/acronyms\\nEdition: 8\\n\\nAc...\n",
       "2        1144      1  Philadelphia at Chicago:  Teams tied for 1st a...\n",
       "3        1509      2  Archive-name: space/new_probes\\nLast-modified:...\n",
       "4           2      1  Having run completely out of time, I've got to..."
      ]
     },
     "execution_count": 13,
     "metadata": {
      "tags": []
     },
     "output_type": "execute_result"
    }
   ],
   "source": [
    "from google.colab import files\n",
    "import io\n",
    "\n",
    "uploaded = files.upload()\n",
    "\n",
    "for fn in uploaded.keys():\n",
    "  print(f'Se subió el archivo {fn} con longitud {len(uploaded[fn])}')\n",
    "  df_news = pd.read_csv(io.StringIO(uploaded['news-filtered.csv'].decode('utf-8')), sep=',')\n",
    "\n",
    "print(f'Se cargaron {df_news.shape[0]} instancias')\n",
    "df_news.head()"
   ]
  },
  {
   "cell_type": "code",
   "execution_count": 14,
   "metadata": {
    "colab": {
     "base_uri": "https://localhost:8080/",
     "height": 109
    },
    "colab_type": "code",
    "executionInfo": {
     "elapsed": 953,
     "status": "ok",
     "timestamp": 1589833885620,
     "user": {
      "displayName": "Tomás Iaquinta",
      "photoUrl": "",
      "userId": "04399816156447454008"
     },
     "user_tz": 180
    },
    "id": "4_iK0MgxzJDA",
    "outputId": "1f9978ed-e109-444c-e0ca-fa23b13973fb"
   },
   "outputs": [
    {
     "data": {
      "text/plain": [
       "class\n",
       "0    474\n",
       "1    607\n",
       "2    611\n",
       "Name: news, dtype: int64"
      ]
     },
     "execution_count": 14,
     "metadata": {
      "tags": []
     },
     "output_type": "execute_result"
    }
   ],
   "source": [
    "df_news.groupby('class').count().loc[:, 'news']"
   ]
  },
  {
   "cell_type": "code",
   "execution_count": 15,
   "metadata": {
    "colab": {
     "base_uri": "https://localhost:8080/",
     "height": 182
    },
    "colab_type": "code",
    "executionInfo": {
     "elapsed": 947,
     "status": "ok",
     "timestamp": 1589833885621,
     "user": {
      "displayName": "Tomás Iaquinta",
      "photoUrl": "",
      "userId": "04399816156447454008"
     },
     "user_tz": 180
    },
    "id": "1xlvsNhsiqt4",
    "outputId": "2ec3833a-b826-4c79-c838-819bf602a602"
   },
   "outputs": [
    {
     "data": {
      "text/plain": [
       "count     1692.00\n",
       "mean      1187.40\n",
       "std       2644.30\n",
       "min         24.00\n",
       "25%        340.75\n",
       "50%        620.50\n",
       "75%       1171.25\n",
       "max      56793.00\n",
       "Name: news, dtype: float64"
      ]
     },
     "execution_count": 15,
     "metadata": {
      "tags": []
     },
     "output_type": "execute_result"
    }
   ],
   "source": [
    "df_news.loc[:,'news'].str.len().describe().round(2)"
   ]
  },
  {
   "cell_type": "markdown",
   "metadata": {
    "colab_type": "text",
    "id": "epSjxELPzHL2"
   },
   "source": [
    "Puede verse que se mantienen las etiquetas de clase, en este caso teniendo menos instancias en la primera de ellas. A diferencia del primer datset no se tienen instancias sin contenido de texto, registrando 24 caracteres como mínimo."
   ]
  },
  {
   "cell_type": "code",
   "execution_count": 0,
   "metadata": {
    "colab": {},
    "colab_type": "code",
    "id": "xEYEPmY0jdZ4"
   },
   "outputs": [],
   "source": [
    "labels = df_news['class']\n",
    "dataset = df_news['news']"
   ]
  },
  {
   "cell_type": "markdown",
   "metadata": {
    "colab_type": "text",
    "id": "jAULQq4e0kXc"
   },
   "source": [
    "## Preprocesamiento de texto"
   ]
  },
  {
   "cell_type": "markdown",
   "metadata": {
    "colab_type": "text",
    "id": "-WzIPxIQSThc"
   },
   "source": [
    "Inicialmente, se realiza el mismo procesamiento que el previamente aplicado."
   ]
  },
  {
   "cell_type": "code",
   "execution_count": 17,
   "metadata": {
    "colab": {
     "base_uri": "https://localhost:8080/",
     "height": 35
    },
    "colab_type": "code",
    "executionInfo": {
     "elapsed": 5033,
     "status": "ok",
     "timestamp": 1589833889721,
     "user": {
      "displayName": "Tomás Iaquinta",
      "photoUrl": "",
      "userId": "04399816156447454008"
     },
     "user_tz": 180
    },
    "id": "Sis6W7_oi3WU",
    "outputId": "24950b23-619c-4fc9-e339-bffd54428913"
   },
   "outputs": [
    {
     "name": "stdout",
     "output_type": "stream",
     "text": [
      "Son generados para el dataset, 4871 tokens únicos\n"
     ]
    }
   ],
   "source": [
    "vectorizer = TfidfVectorizer(tokenizer=stem_tokenizer, ngram_range=(1,2), min_df=5)\n",
    "tokens = vectorizer.fit_transform(dataset.tolist())\n",
    "features = vectorizer.get_feature_names()\n",
    "\n",
    "df_tokens = pd.DataFrame(tokens.toarray(), columns=features)\n",
    "print(f'Son generados para el dataset, {df_tokens.shape[1]} tokens únicos')"
   ]
  },
  {
   "cell_type": "code",
   "execution_count": 18,
   "metadata": {
    "colab": {
     "base_uri": "https://localhost:8080/",
     "height": 35
    },
    "colab_type": "code",
    "executionInfo": {
     "elapsed": 5029,
     "status": "ok",
     "timestamp": 1589833889722,
     "user": {
      "displayName": "Tomás Iaquinta",
      "photoUrl": "",
      "userId": "04399816156447454008"
     },
     "user_tz": 180
    },
    "id": "eFzDqK0Fj93B",
    "outputId": "2494626a-a8f6-4ea3-d724-9afa97cf57b2"
   },
   "outputs": [
    {
     "data": {
      "text/plain": [
       "0"
      ]
     },
     "execution_count": 18,
     "metadata": {
      "tags": []
     },
     "output_type": "execute_result"
    }
   ],
   "source": [
    "mask = (df_tokens != 0).any(axis=1)\n",
    "len(df_tokens[mask == False].index)"
   ]
  },
  {
   "cell_type": "markdown",
   "metadata": {
    "colab_type": "text",
    "id": "Zx9HWuTzznHH"
   },
   "source": [
    "En este caso, todas las instancias quedan representadas al menos por un token, con lo que ninguna será descartada.\n",
    "\n",
    "Se procede a realizar el clustering sobre la información de texto pre-procesada. En este caso se muestran los resultados para los algoritmos de K-Means y Jerárquico previamente introducidos, agregando además los resultados de este último con diferentes parámetros.\n",
    "\n",
    "Se evalúan las mismas métricas que para el dataset original."
   ]
  },
  {
   "cell_type": "markdown",
   "metadata": {
    "colab_type": "text",
    "id": "1WVg470USfYL"
   },
   "source": [
    "## Clustering y evaluación de los resultados"
   ]
  },
  {
   "cell_type": "code",
   "execution_count": 19,
   "metadata": {
    "colab": {
     "base_uri": "https://localhost:8080/",
     "height": 788
    },
    "colab_type": "code",
    "executionInfo": {
     "elapsed": 44611,
     "status": "ok",
     "timestamp": 1589833929310,
     "user": {
      "displayName": "Tomás Iaquinta",
      "photoUrl": "",
      "userId": "04399816156447454008"
     },
     "user_tz": 180
    },
    "id": "MGO2YolzlSUt",
    "outputId": "2a9566b0-19dc-4822-9f96-bb6828b37c2c"
   },
   "outputs": [
    {
     "name": "stdout",
     "output_type": "stream",
     "text": [
      "K-Means:\n",
      "Homogeneity: 0.970\n",
      "Completeness: 0.971\n",
      "V-Measure: 0.970\n",
      "Adjusted Rand-Index: 0.983\n",
      "\n",
      "\n",
      "Jerárquico, Ward:\n",
      "Homogeneity: 0.815\n",
      "Completeness: 0.816\n",
      "V-Measure: 0.815\n",
      "Adjusted Rand-Index: 0.879\n",
      "\n",
      "\n",
      "Jerárquico, Single link:\n",
      "Homogeneity: 0.001\n",
      "Completeness: 0.136\n",
      "V-Measure: 0.002\n",
      "Adjusted Rand-Index: 0.000\n",
      "\n",
      "\n",
      "Jerárquico, Single link, similitud coseno:\n",
      "Homogeneity: 0.001\n",
      "Completeness: 0.136\n",
      "V-Measure: 0.002\n",
      "Adjusted Rand-Index: 0.000\n",
      "\n",
      "\n",
      "Jerárquico, Complete link:\n",
      "Homogeneity: 0.074\n",
      "Completeness: 0.079\n",
      "V-Measure: 0.076\n",
      "Adjusted Rand-Index: 0.057\n",
      "\n",
      "\n",
      "Jerárquico, Group average:\n",
      "Homogeneity: 0.006\n",
      "Completeness: 0.164\n",
      "V-Measure: 0.011\n",
      "Adjusted Rand-Index: 0.002\n",
      "\n",
      "\n"
     ]
    }
   ],
   "source": [
    "from sklearn.cluster import KMeans, AgglomerativeClustering\n",
    "from sklearn import metrics\n",
    "\n",
    "km = KMeans(n_clusters=3, \n",
    "            init='k-means++', \n",
    "\n",
    "            max_iter=300,\n",
    "            tol=1e-04,\n",
    "            random_state=0)\n",
    "\n",
    "ac = AgglomerativeClustering(n_clusters=3, linkage='ward')\n",
    "ac_cos_single = AgglomerativeClustering(n_clusters=3, affinity='cosine', linkage='single')\n",
    "ac_single = AgglomerativeClustering(n_clusters=3, linkage='single')\n",
    "ac_complete = AgglomerativeClustering(n_clusters=3, linkage='complete')\n",
    "ac_gavg = AgglomerativeClustering(n_clusters=3, linkage='average')\n",
    "\n",
    "dict_cl = {km: 'K-Means', ac: \"Jerárquico, Ward\", ac_single: \"Jerárquico, Single link\", \n",
    "           ac_cos_single: \"Jerárquico, Single link, similitud coseno\", \n",
    "           ac_complete: \"Jerárquico, Complete link\", ac_gavg: \"Jerárquico, Group average\"}\n",
    "\n",
    "for key, value in dict_cl.items():\n",
    "  labels_pred = key.fit_predict(df_tokens.to_numpy())\n",
    "  h, c, v = metrics.homogeneity_completeness_v_measure(labels, labels_pred)\n",
    "  print(value + ':')\n",
    "  print('Homogeneity: %.3f' %h)\n",
    "  print('Completeness: %.3f' %c)\n",
    "  print('V-Measure: %.3f' %v)\n",
    "  print('Adjusted Rand-Index: %.3f'\n",
    "      % metrics.adjusted_rand_score(labels, labels_pred))\n",
    "  print('\\n')"
   ]
  },
  {
   "cell_type": "markdown",
   "metadata": {
    "colab_type": "text",
    "id": "w8N9wpW50XCf"
   },
   "source": [
    "Como puede verse, los mejores resultados son obtenidos para el algoritmo K-Means. Dentro de los jerárquicos ejecutados, se observa un buen rendimiento únicamente para el que utiliza la función de similitud de Ward, registrando rendimientos pobres en el resto de los casos.\n",
    "\n",
    "Finalmente, tal como fuera probado para el dataset original (el código no está incluído previamente), se analiza el rendimiento variando en la etapa de pre-procesamiento de texto el control de frecuencia mínima."
   ]
  },
  {
   "cell_type": "code",
   "execution_count": 21,
   "metadata": {
    "colab": {
     "base_uri": "https://localhost:8080/",
     "height": 623
    },
    "colab_type": "code",
    "executionInfo": {
     "elapsed": 100847,
     "status": "ok",
     "timestamp": 1589834204776,
     "user": {
      "displayName": "Tomás Iaquinta",
      "photoUrl": "",
      "userId": "04399816156447454008"
     },
     "user_tz": 180
    },
    "id": "HyHrNibhE4V9",
    "outputId": "9565d752-a852-4c87-be78-93221088294c"
   },
   "outputs": [
    {
     "name": "stdout",
     "output_type": "stream",
     "text": [
      "21128 tokens generados, siendo la frecuencia mínima de 2 documentos.\n",
      "\n",
      "K-Means\n",
      "V-Measure: 0.963\n",
      "Adjusted Rand-Index: 0.980\n",
      "\n",
      "Jerárquico Aglomerativo:\n",
      "V-Measure: 0.826\n",
      "Adjusted Rand-Index b: 0.885\n",
      "\n",
      "\n",
      "9643 tokens generados, siendo la frecuencia mínima de 3 documentos.\n",
      "\n",
      "K-Means\n",
      "V-Measure: 0.953\n",
      "Adjusted Rand-Index: 0.973\n",
      "\n",
      "Jerárquico Aglomerativo:\n",
      "V-Measure: 0.865\n",
      "Adjusted Rand-Index b: 0.916\n",
      "\n",
      "\n",
      "6342 tokens generados, siendo la frecuencia mínima de 4 documentos.\n",
      "\n",
      "K-Means\n",
      "V-Measure: 0.993\n",
      "Adjusted Rand-Index: 0.997\n",
      "\n",
      "Jerárquico Aglomerativo:\n",
      "V-Measure: 0.832\n",
      "Adjusted Rand-Index b: 0.891\n",
      "\n",
      "\n"
     ]
    }
   ],
   "source": [
    "import numpy as np\n",
    "\n",
    "for i in np.arange(3)+2:\n",
    "  vectorizer = TfidfVectorizer(tokenizer=stem_tokenizer, ngram_range=(1,2), min_df=i)\n",
    "  tokens = vectorizer.fit_transform(dataset.tolist())\n",
    "\n",
    "  print(f'{tokens.shape[1]} tokens generados, siendo la frecuencia mínima de {i} documentos.\\n')\n",
    "\n",
    "  labels_a = km.fit_predict(tokens.toarray())\n",
    "  labels_b = ac.fit_predict(tokens.toarray())\n",
    "  h_a, c_a, v_a = metrics.homogeneity_completeness_v_measure(labels, labels_a)\n",
    "  h_b, c_b, v_b = metrics.homogeneity_completeness_v_measure(labels, labels_b)\n",
    "\n",
    "  print('K-Means')\n",
    "  print('V-Measure: %.3f' %metrics.v_measure_score(labels, labels_a))\n",
    "  print('Adjusted Rand-Index: %.3f'\n",
    "      % metrics.adjusted_rand_score(labels, labels_a))\n",
    "  print('\\nJerárquico Aglomerativo:')\n",
    "  print('V-Measure: %.3f' %metrics.v_measure_score(labels, labels_b))\n",
    "  print('Adjusted Rand-Index b: %.3f'\n",
    "      % metrics.adjusted_rand_score(labels, labels_b))\n",
    "  print('\\n')"
   ]
  },
  {
   "cell_type": "markdown",
   "metadata": {
    "colab_type": "text",
    "id": "yeIVcSxN0z-v"
   },
   "source": [
    "Similar a lo que ocurre previamente, los mejores resultados se obtienen, para cada uno de los casos, con el algoritmo K-Means.\n"
   ]
  },
  {
   "cell_type": "markdown",
   "metadata": {
    "colab_type": "text",
    "id": "-xq_Fa6tdw2x"
   },
   "source": [
    "# Conclusiones"
   ]
  },
  {
   "cell_type": "markdown",
   "metadata": {
    "colab_type": "text",
    "id": "FANuN25DK7oB"
   },
   "source": [
    "Se seleccionan dos algortimos específicos, mostrando el de K-Means un mejor rendimiento en la totalidad de los criterios externos evaluados. Se realizaron además diversas pruebas sobre el algoritmo jerárquico, mediante las cuales resultó como mejor alternativa, la que utiliza la función de similitud de Ward, computando las distancias Euclidianas.\n",
    "\n",
    "Sobre el preprocesamiento de texto, el mejor resultado con el algoritmo jerárquico se alcanza para una frecuencia mínima de 3 documentos. El mejor valor alcanzado es para el clustering con K-Means, conservando tokens que aparecen en por lo menos 4 documentos. Con este último las métricas V-Measure y Adjusted Rand Index son aproximadamente 1, con lo que se obtiene una efectividad en encontrar el ground truth es casi óptima.\n",
    "\n",
    "Por esto, se recomienda la utilización del algoritmo K-Means para el clustering del dataset obtenido. Un uso que puede darse es el de separar noticias (o documentos en general) por tópico. De no conocerse el ground truth, es decir, el tópico real, se espera un buen agrupamiento de las noticias de acuerdo a su similaridad en el contenido. Para este tipo de problemas, se recomienda variar la cantidad de clusters, de manera de obtener buenos resultados al evaluar mediante un criterio interno."
   ]
  }
 ],
 "metadata": {
  "colab": {
   "authorship_tag": "ABX9TyPOm2EHzYiUzKSBbzgUdBWV",
   "collapsed_sections": [],
   "name": "Tomás Iaquinta - Práctico 5 - Clustering con Python.ipynb",
   "provenance": [],
   "toc_visible": true
  },
  "kernelspec": {
   "display_name": "Python 3",
   "language": "python",
   "name": "python3"
  },
  "language_info": {
   "codemirror_mode": {
    "name": "ipython",
    "version": 3
   },
   "file_extension": ".py",
   "mimetype": "text/x-python",
   "name": "python",
   "nbconvert_exporter": "python",
   "pygments_lexer": "ipython3",
   "version": "3.7.7"
  }
 },
 "nbformat": 4,
 "nbformat_minor": 1
}
