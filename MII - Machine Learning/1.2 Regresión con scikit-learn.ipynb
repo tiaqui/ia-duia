{
 "cells": [
  {
   "cell_type": "markdown",
   "metadata": {},
   "source": [
    "# Abalone P.II - Regresión con scikit-learn\n",
    "\n",
    "En esta notebook se presenta la primera parte de un trabajo integral que incluye el análisis de datos, su preprocesamiento, y el entrenamiento, proceso de selección de modelos y prueba a través de un algoritmo de clustering. En este se analiza un dataset que contiene datos relativos al sexo, dimensiones y peso de especímenes de orejas de mar.\n",
    "\n",
    "En esta segunda parte se realizan las siguientes tareas:\n",
    "\n",
    "* Se implementan funciones a modo de preprocesar los datos.\n",
    "* Se dividen aleatoriamente los datos en sets de entrenamiento y prueba.\n",
    "* Se entrenan dos modelos diferentes: `RandomForestRegressor` y `Ridge`. \n",
    "* Se realiza *model selection* con ambos, a través de la búsqueda de parámetros por grilla, aplicando validación cruzada. \n",
    "* Se compara ambos métodos de acuerdo a su rendimiento a partir de las métricas **MAE**, **MSE** y **R2**; además se realiza un análisis de la distribución de los errores por instancia.\n",
    "* Se analiza para el `RandomForestRegressor` el *feature importance* resultante y el *Out-of-bag score*.\n",
    "* Se muestran los coeficientes obtenidos en el regresor `Ridge`.\n",
    "* Se realiza un análisis de los resultados aplicando y sin aplicar estandarización de los datos."
   ]
  },
  {
   "cell_type": "markdown",
   "metadata": {
    "colab_type": "text",
    "id": "ey62I6ScVItr"
   },
   "source": [
    "# 1 - Selección y obtención del dataset\n"
   ]
  },
  {
   "cell_type": "markdown",
   "metadata": {
    "colab_type": "text",
    "id": "ZjKjszDiE6Ok"
   },
   "source": [
    "En este trabajo se vuelve a elegir el dataset <i>[Abalone](https://github.com/ignaciorlando/duia-ml-datasets/tree/master/AbaloneDataset)</i>, el cual contiene datos sobre las orejas de mar (algo como esto):\n",
    "<img src=http://www.aquariumofpacific.org/images/made/images/olc/red-abalone_noaa_530_353_80auto_s.jpg width=\"400\">\n",
    "\n",
    "El problema a resolver con este es el de predecir su edad, a partir de distintos atributos con respecto al sexo, peso y dimensiones de los especímenes. La edad se obtiene a partir de la cantidad de anillos de sus *shells*, siendo este el atributo clase. Al ser esta una variable discreta y acotada, el problema se plantea originalmente como uno de clasificación. A pesar de esto, en esta caso se busca plantear un problema de regresión, para lo que la variable a predecir es la edad en años del especímen, lo que se obtiene sumnado 1,5 a la cantidad de anillos.\n",
    "\n",
    "Para realizar y comparar modelos de regresión, se obtienen los datos a partir del archivo `.pkl` generado en el práctico previo. Para esto, apuntamos a la dirección del archivo dentro de la estructura de Google Drive."
   ]
  },
  {
   "cell_type": "code",
   "execution_count": 1,
   "metadata": {
    "colab": {
     "base_uri": "https://localhost:8080/",
     "height": 147
    },
    "colab_type": "code",
    "executionInfo": {
     "elapsed": 45734,
     "status": "ok",
     "timestamp": 1592275660408,
     "user": {
      "displayName": "Tomás Iaquinta",
      "photoUrl": "https://lh3.googleusercontent.com/a-/AOh14GiDufDMU2IyxoeIZNOG3EXUHhD6aybuBHh8A3qE1g=s64",
      "userId": "04399816156447454008"
     },
     "user_tz": 180
    },
    "id": "JzzAv8X1GTxm",
    "outputId": "4a8ceffe-dd27-4281-b178-25db3d347822"
   },
   "outputs": [
    {
     "name": "stdout",
     "output_type": "stream",
     "text": [
      "Información disponible en el archivo: ['information', 'raw dataset', 'features']\n"
     ]
    }
   ],
   "source": [
    "import pickle\n",
    "import numpy as np\n",
    "\n",
    "# imprimir solo 3 decimales\n",
    "np.set_printoptions(precision=3, suppress=True) \n",
    "\n",
    "# apuntamos al archivo .pkl requerido\n",
    "dataset_pkl_filename = '../datasets/abalone_dataset.pkl' \n",
    "\n",
    "# cargamos los datos\n",
    "with open(dataset_pkl_filename, 'rb') as f:\n",
    "    dataset_pkl = pickle.load(f)\n",
    "    \n",
    "# imprimimos las keys de los datos cargados\n",
    "print(f'Información disponible en el archivo: {list(dataset_pkl.keys())}')"
   ]
  },
  {
   "cell_type": "markdown",
   "metadata": {
    "colab_type": "text",
    "id": "USBYNUd2K82H"
   },
   "source": [
    "Una vez importado el archivo `.pkl`, mostramosla información incluída en el mismo."
   ]
  },
  {
   "cell_type": "code",
   "execution_count": 2,
   "metadata": {
    "colab": {
     "base_uri": "https://localhost:8080/",
     "height": 239
    },
    "colab_type": "code",
    "executionInfo": {
     "elapsed": 1712,
     "status": "ok",
     "timestamp": 1592275663842,
     "user": {
      "displayName": "Tomás Iaquinta",
      "photoUrl": "https://lh3.googleusercontent.com/a-/AOh14GiDufDMU2IyxoeIZNOG3EXUHhD6aybuBHh8A3qE1g=s64",
      "userId": "04399816156447454008"
     },
     "user_tz": 180
    },
    "id": "SZo7FLFIgK8U",
    "outputId": "c3098915-0d1a-4df3-e3ca-cfb9763e056e"
   },
   "outputs": [
    {
     "data": {
      "text/plain": [
       "{'url': 'https://raw.githubusercontent.com/ignaciorlando/duia-ml-datasets/master/AbaloneDataset/abalone.data',\n",
       " 'description_url': 'https://raw.githubusercontent.com/ignaciorlando/duia-ml-datasets/master/AbaloneDataset/readme.txt',\n",
       " 'extension': '.data',\n",
       " 'filename': '/content/gdrive/My Drive/Colab Notebooks/DUIA/Mod 2/Unidad 1/abalone.data',\n",
       " 'description': array(['The Abalone Dataset involves predicting the age of abalone given objective measures of individuals.',\n",
       "        'It is a multi-class classification problem, but can also be framed as a regression. The number of observations for each class is not balanced. There are 4,177 observations with 8 input variables and 1 output variable. The variable names are as follows:',\n",
       "        'Sex (M, F, I).', 'Length.', 'Diameter.', 'Height.',\n",
       "        'Whole weight.', 'Shucked weight.', 'Viscera weight.',\n",
       "        'Shell weight.', 'Rings.',\n",
       "        'The baseline performance of predicting the most prevalent class is a classification accuracy of approximately 16%. The baseline performance of predicting the mean value is an RMSE of approximately 3.2 rings.'],\n",
       "       dtype='<U252')}"
      ]
     },
     "execution_count": 2,
     "metadata": {},
     "output_type": "execute_result"
    }
   ],
   "source": [
    "dataset_pkl['information']"
   ]
  },
  {
   "cell_type": "markdown",
   "metadata": {
    "colab_type": "text",
    "id": "3Owv0LpTw3_R"
   },
   "source": [
    "A continuación, obtenemos la matriz de diseño y las variables asociadas a cada instancia por separado. Se convierte, como se explica previamente, la variable a la edad en años."
   ]
  },
  {
   "cell_type": "code",
   "execution_count": 3,
   "metadata": {
    "colab": {
     "base_uri": "https://localhost:8080/",
     "height": 201
    },
    "colab_type": "code",
    "executionInfo": {
     "elapsed": 977,
     "status": "ok",
     "timestamp": 1592275663844,
     "user": {
      "displayName": "Tomás Iaquinta",
      "photoUrl": "https://lh3.googleusercontent.com/a-/AOh14GiDufDMU2IyxoeIZNOG3EXUHhD6aybuBHh8A3qE1g=s64",
      "userId": "04399816156447454008"
     },
     "user_tz": 180
    },
    "id": "_X9F6LWnoZCM",
    "outputId": "9c424a28-3d4e-4f36-bc24-3bc3829436fd"
   },
   "outputs": [
    {
     "data": {
      "text/plain": [
       "array([[ 0.   ,  0.455,  0.365,  0.095,  0.514,  0.225,  0.101,  0.15 ,\n",
       "        15.   ],\n",
       "       [ 0.   ,  0.35 ,  0.265,  0.09 ,  0.226,  0.1  ,  0.049,  0.07 ,\n",
       "         7.   ],\n",
       "       [ 1.   ,  0.53 ,  0.42 ,  0.135,  0.677,  0.257,  0.141,  0.21 ,\n",
       "         9.   ],\n",
       "       [ 0.   ,  0.44 ,  0.365,  0.125,  0.516,  0.215,  0.114,  0.155,\n",
       "        10.   ],\n",
       "       [ 2.   ,  0.33 ,  0.255,  0.08 ,  0.205,  0.089,  0.04 ,  0.055,\n",
       "         7.   ]])"
      ]
     },
     "execution_count": 3,
     "metadata": {},
     "output_type": "execute_result"
    }
   ],
   "source": [
    "dataset = dataset_pkl['raw dataset']\n",
    "X = dataset[:,:-1]\n",
    "y = dataset[:,-1] + 1.5 # edad en años\n",
    "\n",
    "dataset[:5,:] # imprimimos las primeras cinco filas del dataset completo"
   ]
  },
  {
   "cell_type": "markdown",
   "metadata": {
    "colab_type": "text",
    "id": "AX88gUlyyi5-"
   },
   "source": [
    "Guardamos los nombres de las features de `X`."
   ]
  },
  {
   "cell_type": "code",
   "execution_count": 0,
   "metadata": {
    "colab": {
     "base_uri": "https://localhost:8080/",
     "height": 164
    },
    "colab_type": "code",
    "executionInfo": {
     "elapsed": 1982,
     "status": "ok",
     "timestamp": 1592275665282,
     "user": {
      "displayName": "Tomás Iaquinta",
      "photoUrl": "https://lh3.googleusercontent.com/a-/AOh14GiDufDMU2IyxoeIZNOG3EXUHhD6aybuBHh8A3qE1g=s64",
      "userId": "04399816156447454008"
     },
     "user_tz": 180
    },
    "id": "0dU288hqnVvC",
    "outputId": "930bacbb-6465-4cb2-a6eb-7c24118b66ba"
   },
   "outputs": [
    {
     "data": {
      "text/plain": [
       "{0: 'Sex (M, F, I).',\n",
       " 1: 'Length.',\n",
       " 2: 'Diameter.',\n",
       " 3: 'Height.',\n",
       " 4: 'Whole weight.',\n",
       " 5: 'Shucked weight.',\n",
       " 6: 'Viscera weight.',\n",
       " 7: 'Shell weight.'}"
      ]
     },
     "execution_count": 5,
     "metadata": {
      "tags": []
     },
     "output_type": "execute_result"
    }
   ],
   "source": [
    "# obtenemos los nombres de las features en X\n",
    "X_features = {key: dataset_pkl['features'][key] for key in range(X.shape[1])}\n",
    "X_features"
   ]
  },
  {
   "cell_type": "markdown",
   "metadata": {
    "colab_type": "text",
    "id": "JJPCvzAGJWN4"
   },
   "source": [
    "Las variables (tal como se explica en el práctico previo), refieren a:\n",
    "1. Sexo: Única variable categórica del dataset, pudiendo ser masculino, femenino, o infante. \n",
    "2. Dimensiones: Tenemos tres atributos dimensionales, largo, diámetro y altura.\n",
    "3. Peso: Los atributos relativos al peso son cuatro. Luego de una breve investigación online, sabemos que estos son el peso de la concha (shell), el de las víseras, el de todo el especímen (whole), y el de la carne (shucked)."
   ]
  },
  {
   "cell_type": "markdown",
   "metadata": {
    "colab_type": "text",
    "id": "ciENqqeZVnrt"
   },
   "source": [
    "# 2 - Preprocesamiento y partición de datos"
   ]
  },
  {
   "cell_type": "markdown",
   "metadata": {
    "colab_type": "text",
    "id": "21WQBFwFVrCH"
   },
   "source": [
    "De acuerdo a lo observado en el práctico previo, se desean realizar dos tareas de preprocesamiento :\n",
    "\n",
    "* Remoción de outliers, dado los que se observan respecto del parámetro `Height`.\n",
    "* Estandarización de los datos, a partir de la media y el desvío estándar de cada atríbuto, se estandarizan los datos a modo de llevar las medias a 0 y los desvíos estándar a 1.\n",
    "\n",
    "Se crean funciones para realizar estas tareas, mientras que para la separación de datos en *train* y *test* se utiliza la función `train_test_split()`."
   ]
  },
  {
   "cell_type": "code",
   "execution_count": 0,
   "metadata": {
    "colab": {},
    "colab_type": "code",
    "id": "SWp78zkAVrWC"
   },
   "outputs": [],
   "source": [
    "from sklearn.model_selection import train_test_split\n",
    "\n",
    "def idx_outliers(x, mean, std, m=3):\n",
    "  return np.where(abs(x - mean > m*std)[0])\n",
    "\n",
    "def del_outliers(x, y, mean, std, m=3):\n",
    "  \"\"\" Remoción de outliers a partir de la columna 'Height'. Elimina la instancia\n",
    "  si su valor de este parámetro tiene una diferencia que supera 'm' veces su media.\n",
    "  Recibe la matriz de diseño 'x', sus clases asociadas 'y', y devuelve, respectivamente,\n",
    "  los arreglos con los outliers removidos.\n",
    "  \"\"\"\n",
    "  idx_out = idx_outliers(x[:,3], mean, std, m=m)\n",
    "  return np.delete(x, idx_out, axis=0), np.delete(y, idx_out, axis=0)\n",
    "\n",
    "def stand(x, mean, std):\n",
    "  \"\"\" Estandarización de los datos en 'x', de acuero a la media y al desvío\n",
    "  estándar ingresados. \"\"\"\n",
    "  return (x - mean)/std"
   ]
  },
  {
   "cell_type": "code",
   "execution_count": 0,
   "metadata": {
    "colab": {},
    "colab_type": "code",
    "id": "Ebf2w5Iy4iKq"
   },
   "outputs": [],
   "source": [
    "# dividimos los datos\n",
    "X_train, X_test, y_train, y_test = train_test_split(X, y, test_size=0.3, random_state=10)"
   ]
  },
  {
   "cell_type": "code",
   "execution_count": 0,
   "metadata": {
    "colab": {},
    "colab_type": "code",
    "id": "uEhzYac95xXV"
   },
   "outputs": [],
   "source": [
    "# Calculamos media y desvío estándar para el feature 'Height'\n",
    "mean_height = np.mean(X[:,3])\n",
    "std_height = np.std(X[:,3])\n",
    "\n",
    "# Eliminamos outliers en los sets\n",
    "X_test_st, y_test_st = del_outliers(X_test, y_test, mean_height, std_height)\n",
    "X_train_st, y_train_st = del_outliers(X_train, y_train, mean_height, std_height)\n",
    "\n",
    "# Calculamos media y desvío estándar de todos los features (salvo el primero)\n",
    "X_mean = np.mean(X_train_st[:,1:], axis=0)\n",
    "X_std = np.std(X_train_st[:,1:], axis=0)\n",
    "\n",
    "# Estandarizamos\n",
    "X_test_st[:,1:] = stand(X_test_st[:,1:], X_mean, X_std)\n",
    "X_train_st[:,1:] = stand(X_train_st[:,1:], X_mean, X_std)"
   ]
  },
  {
   "cell_type": "markdown",
   "metadata": {
    "colab_type": "text",
    "id": "qsAthl4aYauc"
   },
   "source": [
    "# 3 - Selección de modelos y métricas de evaluación"
   ]
  },
  {
   "cell_type": "markdown",
   "metadata": {
    "colab_type": "text",
    "id": "90G1GYgRO06u"
   },
   "source": [
    "Los modelos de regresión elegidos son: Ridge Regression y Random Forest Regression.\n",
    "\n",
    "Se determina no utilizar el modelo LASSO, dado que no se requiere realizar *feature selection*, al tener pocas features en la matriz de diseño (7).\n",
    "\n",
    "Respecto a las métricas, se evalúan el **RMSE**, el **MAE** y el coeficiente de determinación **R2**."
   ]
  },
  {
   "cell_type": "code",
   "execution_count": 0,
   "metadata": {
    "colab": {},
    "colab_type": "code",
    "id": "s-WtjjzHZ82j"
   },
   "outputs": [],
   "source": [
    "from sklearn.linear_model import Ridge\n",
    "from sklearn.ensemble import RandomForestRegressor\n",
    "from sklearn.metrics import mean_squared_error, mean_absolute_error"
   ]
  },
  {
   "cell_type": "markdown",
   "metadata": {
    "colab_type": "text",
    "id": "1DWpXMt1l_SS"
   },
   "source": [
    "# 4 - Calibración de hiperparámetros"
   ]
  },
  {
   "cell_type": "markdown",
   "metadata": {
    "colab_type": "text",
    "id": "wdoDo-Il5yeW"
   },
   "source": [
    "En este caso no trabajamos con un set de validación, en cambio, utilizando `GridSearchCV()`, es posible realizar la calibración de hiperparámetros realizando una búsqueda exhaustiva a partir de todas las combinaciones de parámetros a evaluar, y según cierta métrica de evaluación. La métrica se obtiene mediante de *cross validation*, para cada combinación de parámetros, pro ejemplo indicando *k=5*, la cuarta parte del set de entrenamiento se utiliza para entrenamiento, y los datos restantes para evaluar cada modelo generado.\n",
    "\n",
    "Para esto, le indicamos a la función los parámetros a combinar, la métrica de evaluación, y la cantidad de folds *k* para la validación cruzada. "
   ]
  },
  {
   "cell_type": "code",
   "execution_count": 0,
   "metadata": {
    "colab": {},
    "colab_type": "code",
    "id": "YRgXRa4ImIkE"
   },
   "outputs": [],
   "source": [
    "from sklearn.model_selection import GridSearchCV"
   ]
  },
  {
   "cell_type": "markdown",
   "metadata": {
    "colab_type": "text",
    "id": "vn22Jm58mCLi"
   },
   "source": [
    "## 4.1 - Ridge regression"
   ]
  },
  {
   "cell_type": "markdown",
   "metadata": {
    "colab_type": "text",
    "id": "0g5lozqW-92B"
   },
   "source": [
    "Para este modelo, el parámetro a optimizar es el `alpha`, que indica el peso que se le asigna al regularizador. Evaluamos este parámetro en las potencias de 10 en el rango [-4, 4], variando crecientemente la importancia relativa de la regularización en el mismo.\n",
    "\n",
    "Por defecto se computa la ordenada al origen (`fit_intercept = True`).\n",
    "\n",
    "A continuación aplicamos `GridSearchCV()` para 5 folds, y nos quedamos con el mejor modelo evaluando respecto al **MSE**."
   ]
  },
  {
   "cell_type": "code",
   "execution_count": 0,
   "metadata": {
    "colab": {
     "base_uri": "https://localhost:8080/",
     "height": 54
    },
    "colab_type": "code",
    "executionInfo": {
     "elapsed": 2235,
     "status": "ok",
     "timestamp": 1592275668543,
     "user": {
      "displayName": "Tomás Iaquinta",
      "photoUrl": "https://lh3.googleusercontent.com/a-/AOh14GiDufDMU2IyxoeIZNOG3EXUHhD6aybuBHh8A3qE1g=s64",
      "userId": "04399816156447454008"
     },
     "user_tz": 180
    },
    "id": "TbyeLwXcSxM4",
    "outputId": "7e040117-5218-4e50-d043-261b2fb4c20f"
   },
   "outputs": [
    {
     "name": "stdout",
     "output_type": "stream",
     "text": [
      "Menor MSE obtenido:  4.99956490593066\n",
      "Mejor parámetro:  {'alpha': 1.0}\n"
     ]
    }
   ],
   "source": [
    "# Obtenemos el modelo\n",
    "ridge = Ridge(fit_intercept=True)\n",
    "\n",
    "# Parámetros a calcular\n",
    "parameters = {'alpha': 10.0**np.arange(-4,5)} \n",
    "\n",
    "# Preparamos el grid search y computamos\n",
    "reg_ridge = GridSearchCV(ridge, parameters, scoring='neg_mean_squared_error', cv=5)\n",
    "reg_ridge.fit(X_train_st, y_train_st)\n",
    "\n",
    "print('Menor MSE obtenido: ', -reg_ridge.best_score_)\n",
    "print('Mejor parámetro: ', reg_ridge.best_params_)"
   ]
  },
  {
   "cell_type": "code",
   "execution_count": 0,
   "metadata": {
    "colab": {
     "base_uri": "https://localhost:8080/",
     "height": 54
    },
    "colab_type": "code",
    "executionInfo": {
     "elapsed": 2023,
     "status": "ok",
     "timestamp": 1592275668543,
     "user": {
      "displayName": "Tomás Iaquinta",
      "photoUrl": "https://lh3.googleusercontent.com/a-/AOh14GiDufDMU2IyxoeIZNOG3EXUHhD6aybuBHh8A3qE1g=s64",
      "userId": "04399816156447454008"
     },
     "user_tz": 180
    },
    "id": "HojsruBziiRM",
    "outputId": "dbd56d08-11f0-4c6b-b7e1-63c9aacc43b7"
   },
   "outputs": [
    {
     "data": {
      "text/plain": [
       "Ridge(alpha=1.0, copy_X=True, fit_intercept=True, max_iter=None,\n",
       "      normalize=False, random_state=None, solver='auto', tol=0.001)"
      ]
     },
     "execution_count": 12,
     "metadata": {
      "tags": []
     },
     "output_type": "execute_result"
    }
   ],
   "source": [
    "# nos quedamos con el mejor Ridge obtenido\n",
    "best_ridge = reg_ridge.best_estimator_\n",
    "best_ridge"
   ]
  },
  {
   "cell_type": "markdown",
   "metadata": {
    "colab_type": "text",
    "id": "tGdSUqmgAvsR"
   },
   "source": [
    "Finalmente, mostramos como varía el **MSE** respecto de cada `alpha` evaluado."
   ]
  },
  {
   "cell_type": "code",
   "execution_count": 0,
   "metadata": {
    "colab": {
     "base_uri": "https://localhost:8080/",
     "height": 182
    },
    "colab_type": "code",
    "executionInfo": {
     "elapsed": 1574,
     "status": "ok",
     "timestamp": 1592275668544,
     "user": {
      "displayName": "Tomás Iaquinta",
      "photoUrl": "https://lh3.googleusercontent.com/a-/AOh14GiDufDMU2IyxoeIZNOG3EXUHhD6aybuBHh8A3qE1g=s64",
      "userId": "04399816156447454008"
     },
     "user_tz": 180
    },
    "id": "KBMLUVyvfwBf",
    "outputId": "14f637ad-e91d-473f-c8bd-3d8120011401"
   },
   "outputs": [
    {
     "data": {
      "text/plain": [
       "{0.0001: 4.999766298066136,\n",
       " 0.001: 4.999765254741978,\n",
       " 0.01: 4.999754918210149,\n",
       " 0.1: 4.999661099587871,\n",
       " 1.0: 4.99956490593066,\n",
       " 10.0: 5.029518389260813,\n",
       " 100.0: 5.2590772891282045,\n",
       " 1000.0: 6.267663044585061,\n",
       " 10000.0: 7.501098475677101}"
      ]
     },
     "execution_count": 13,
     "metadata": {
      "tags": []
     },
     "output_type": "execute_result"
    }
   ],
   "source": [
    "dict(zip(reg_ridge.param_grid['alpha'], -reg_ridge.cv_results_['mean_test_score']))"
   ]
  },
  {
   "cell_type": "markdown",
   "metadata": {
    "colab_type": "text",
    "id": "BkogrlR0A8Kx"
   },
   "source": [
    "Podemos observar que, aplicando regularización, el modelo no mejora significativamente, dado que los resultados son similares para `alpha = 0.0001` hasta `alpha = 1.0`.\n",
    "\n",
    "Los resultados empeoran al asignarle mayor peso al regularizador de la función de pérdida."
   ]
  },
  {
   "cell_type": "markdown",
   "metadata": {
    "colab_type": "text",
    "id": "gO19qCwBmNzf"
   },
   "source": [
    "## 4.2 - Random Forest Regressor"
   ]
  },
  {
   "cell_type": "markdown",
   "metadata": {
    "colab_type": "text",
    "id": "x1MgsilNzJot"
   },
   "source": [
    "Para el regresor Random Forest, tenemos una gran cantidad de parámetros para ajustar. Dentro de estos, se indican los siguientes:\n",
    "\n",
    "* `n_estimators`: la cantidad de árboles de decisión que tendrá nuestro Random Forest.\n",
    "* `max_depth`: la profundidad máxima de cada uno de los árboles. Al probar con `None` no se limita este valor.\n",
    "* `max_features`: la cantidad máxima de features que se consideran para dividir un nodo. Suele recomendarse utilizar la raíz de la cantidad de features totales (2.6 en nuestro caso). Para la evaluación indicamos un rango de entre 2 y 5 features.\n",
    "* `oob_score`: Indicamos únicamente `oob_score = True`, a modo de poder luego evaluar el *out-of-bag error*.\n",
    "\n",
    "Para el `GridSearchCV()` indicamos los mismos parámetros que los del Ridge."
   ]
  },
  {
   "cell_type": "code",
   "execution_count": 0,
   "metadata": {
    "colab": {
     "base_uri": "https://localhost:8080/",
     "height": 54
    },
    "colab_type": "code",
    "executionInfo": {
     "elapsed": 707448,
     "status": "ok",
     "timestamp": 1592276376822,
     "user": {
      "displayName": "Tomás Iaquinta",
      "photoUrl": "https://lh3.googleusercontent.com/a-/AOh14GiDufDMU2IyxoeIZNOG3EXUHhD6aybuBHh8A3qE1g=s64",
      "userId": "04399816156447454008"
     },
     "user_tz": 180
    },
    "id": "yRKEvpP1xSsM",
    "outputId": "99a361d4-f7e8-4a5e-9eca-bdb3072795ba"
   },
   "outputs": [
    {
     "name": "stdout",
     "output_type": "stream",
     "text": [
      "Menor MSE obtenido:  4.7190338762660105\n",
      "Mejores parámetros:  {'max_depth': 10, 'max_features': 4, 'n_estimators': 1000, 'oob_score': True}\n"
     ]
    }
   ],
   "source": [
    "# Obtenemos el modelo\n",
    "rf = RandomForestRegressor()\n",
    "\n",
    "# Parámetros a calcular\n",
    "parameters = {'n_estimators': [100, 300, 500, 1000], # cantidad de árboles\n",
    "             'max_depth': [None, 10, 50], # máxima profundidad del árbol\n",
    "             'max_features': [2, 3, 4, 5], # máximo de features considerados para dividir el nodo \n",
    "             'oob_score':  [True]} # para computar el resultado OOB\n",
    "\n",
    "# Preparamos el grid search y computamos\n",
    "reg_rf = GridSearchCV(rf, parameters, scoring='neg_mean_squared_error', cv=5)\n",
    "reg_rf.fit(X_train_st, y_train_st)\n",
    "\n",
    "print('Menor MSE obtenido: ', -reg_rf.best_score_)\n",
    "print('Mejores parámetros: ', reg_rf.best_params_)"
   ]
  },
  {
   "cell_type": "code",
   "execution_count": 0,
   "metadata": {
    "colab": {
     "base_uri": "https://localhost:8080/",
     "height": 146
    },
    "colab_type": "code",
    "executionInfo": {
     "elapsed": 706922,
     "status": "ok",
     "timestamp": 1592276376823,
     "user": {
      "displayName": "Tomás Iaquinta",
      "photoUrl": "https://lh3.googleusercontent.com/a-/AOh14GiDufDMU2IyxoeIZNOG3EXUHhD6aybuBHh8A3qE1g=s64",
      "userId": "04399816156447454008"
     },
     "user_tz": 180
    },
    "id": "3G7-pHhg2cKg",
    "outputId": "8887b8e2-ea49-4fb1-e1d0-691159207bb0"
   },
   "outputs": [
    {
     "data": {
      "text/plain": [
       "RandomForestRegressor(bootstrap=True, ccp_alpha=0.0, criterion='mse',\n",
       "                      max_depth=10, max_features=4, max_leaf_nodes=None,\n",
       "                      max_samples=None, min_impurity_decrease=0.0,\n",
       "                      min_impurity_split=None, min_samples_leaf=1,\n",
       "                      min_samples_split=2, min_weight_fraction_leaf=0.0,\n",
       "                      n_estimators=1000, n_jobs=None, oob_score=True,\n",
       "                      random_state=None, verbose=0, warm_start=False)"
      ]
     },
     "execution_count": 15,
     "metadata": {
      "tags": []
     },
     "output_type": "execute_result"
    }
   ],
   "source": [
    "# nos quedamos con el mejor modelo obtenido\n",
    "best_rf = reg_rf.best_estimator_\n",
    "best_rf"
   ]
  },
  {
   "cell_type": "code",
   "execution_count": 0,
   "metadata": {
    "colab": {
     "base_uri": "https://localhost:8080/",
     "height": 54
    },
    "colab_type": "code",
    "executionInfo": {
     "elapsed": 706169,
     "status": "ok",
     "timestamp": 1592276376824,
     "user": {
      "displayName": "Tomás Iaquinta",
      "photoUrl": "https://lh3.googleusercontent.com/a-/AOh14GiDufDMU2IyxoeIZNOG3EXUHhD6aybuBHh8A3qE1g=s64",
      "userId": "04399816156447454008"
     },
     "user_tz": 180
    },
    "id": "stMLRRejJexF",
    "outputId": "9e636156-dd1f-4535-e116-2936fb5dd928"
   },
   "outputs": [
    {
     "name": "stdout",
     "output_type": "stream",
     "text": [
      "Mayor MSE obtenido:  4.851392401608036\n",
      "MSE medio obtenido:  4.770528745495132\n"
     ]
    }
   ],
   "source": [
    "print('Mayor MSE obtenido: ', np.max(-reg_rf.cv_results_['mean_test_score']))\n",
    "print('MSE medio obtenido: ', np.mean(-reg_rf.cv_results_['mean_test_score']))"
   ]
  },
  {
   "cell_type": "markdown",
   "metadata": {
    "colab_type": "text",
    "id": "vTgiBsp8E8ah"
   },
   "source": [
    "Como podemos ver, los modelos obtenidos variando los parámetros no arrojan grandes diferencias del **MSE**, dado que entre el mejor y peor RF tenemos una diferencia de alrededor de 0,1 años."
   ]
  },
  {
   "cell_type": "markdown",
   "metadata": {
    "colab_type": "text",
    "id": "ncs-dgomxhUZ"
   },
   "source": [
    "# 5 - Análisis y comparación de los modelos"
   ]
  },
  {
   "cell_type": "markdown",
   "metadata": {
    "colab_type": "text",
    "id": "kj3BFnfeFYof"
   },
   "source": [
    "Habiendo realizado *model selection*, nos quedamos con los mejores modelos de cada regresor utilizado.\n",
    "\n",
    "El paso siguiente es el de realizar predicciones sobre datos *nuevos*, instancias con los cuales los modelos no fueron entrenados. \n",
    "\n",
    "Luego, al comparar con el *ground truth* computamos las métricas para cada modelo."
   ]
  },
  {
   "cell_type": "code",
   "execution_count": 0,
   "metadata": {
    "colab": {
     "base_uri": "https://localhost:8080/",
     "height": 348
    },
    "colab_type": "code",
    "executionInfo": {
     "elapsed": 703888,
     "status": "ok",
     "timestamp": 1592276376826,
     "user": {
      "displayName": "Tomás Iaquinta",
      "photoUrl": "https://lh3.googleusercontent.com/a-/AOh14GiDufDMU2IyxoeIZNOG3EXUHhD6aybuBHh8A3qE1g=s64",
      "userId": "04399816156447454008"
     },
     "user_tz": 180
    },
    "id": "DckXluXrEF7w",
    "outputId": "d7c2d9de-3f60-433e-becf-a65aa8428f1e"
   },
   "outputs": [
    {
     "name": "stdout",
     "output_type": "stream",
     "text": [
      "RMSE\n",
      "===============\n",
      "Ridge :  2.2\n",
      "Random Forest :  2.1001\n",
      "\n",
      "\n",
      "MAE\n",
      "===============\n",
      "Ridge :  1.588\n",
      "Random Forest :  1.4886\n",
      "\n",
      "\n",
      "R2\n",
      "===============\n",
      "Ridge :  0.5381\n",
      "Random Forest :  0.5791\n",
      "\n",
      "\n"
     ]
    }
   ],
   "source": [
    "# predecimos con los mejores modelos obtenidos\n",
    "y_test_hat_ridge = best_ridge.predict(X_test_st)\n",
    "y_test_hat_rf = best_rf.predict(X_test_st)\n",
    "\n",
    "# creamos diccionarios vacíos para almacenar los resultados\n",
    "best_ridge_score = {}\n",
    "best_rf_score = {}\n",
    "\n",
    "# RMSE\n",
    "best_ridge_score['RMSE'] = mean_squared_error(y_test_st, y_test_hat_ridge, squared=False)\n",
    "best_rf_score['RMSE'] = mean_squared_error(y_test_st, y_test_hat_rf, squared=False)\n",
    "\n",
    "# MAE\n",
    "best_ridge_score['MAE'] = mean_absolute_error(y_test_st, y_test_hat_ridge)\n",
    "best_rf_score['MAE'] = mean_absolute_error(y_test_st, y_test_hat_rf)\n",
    "\n",
    "# R2\n",
    "best_ridge_score['R2'] = best_ridge.score(X_test_st, y_test_st)\n",
    "best_rf_score['R2'] = best_rf.score(X_test_st, y_test_st)\n",
    "\n",
    "# diferencia en la predicción\n",
    "pred_dif = np.absolute(y_test_st - y_test_hat_rf)\n",
    "pred_dif = np.vstack((np.absolute(y_test_st - y_test_hat_ridge), pred_dif))\n",
    "\n",
    "# imprimimos los resultados\n",
    "for key in best_rf_score:\n",
    "  print(key + '\\n' + 15*'=')\n",
    "  print('Ridge : ', np.around(best_ridge_score[key], 4))\n",
    "  print('Random Forest : ', np.around(best_rf_score[key], 4))\n",
    "  print('\\n')"
   ]
  },
  {
   "cell_type": "code",
   "execution_count": 0,
   "metadata": {
    "colab": {
     "base_uri": "https://localhost:8080/",
     "height": 419
    },
    "colab_type": "code",
    "executionInfo": {
     "elapsed": 704011,
     "status": "ok",
     "timestamp": 1592276377338,
     "user": {
      "displayName": "Tomás Iaquinta",
      "photoUrl": "https://lh3.googleusercontent.com/a-/AOh14GiDufDMU2IyxoeIZNOG3EXUHhD6aybuBHh8A3qE1g=s64",
      "userId": "04399816156447454008"
     },
     "user_tz": 180
    },
    "id": "_nT-ZMYYVgGi",
    "outputId": "18d142d8-ffa3-448c-9d8a-eb32be18f8eb"
   },
   "outputs": [
    {
     "data": {
      "image/png": "[encoded data removed]",
      "text/plain": [
       "<Figure size 864x432 with 3 Axes>"
      ]
     },
     "metadata": {
      "tags": []
     },
     "output_type": "display_data"
    }
   ],
   "source": [
    "import matplotlib.pyplot as plt\n",
    "plt.rcParams['figure.figsize'] = (10,6)\n",
    "plt.rcParams['font.size'] = 16\n",
    "plt.style.use('fivethirtyeight')\n",
    "\n",
    "fig, ax = plt.subplots(1,3, figsize=(12, 6))\n",
    "for i, key in enumerate(best_rf_score.keys()):\n",
    "  ax[i].bar(1, best_rf_score[key], alpha=0.7)\n",
    "  ax[i].bar(0, best_ridge_score[key], color='m', alpha=0.7)\n",
    "  ax[i].set_title(key)\n",
    "  ax[i].set_xticks(np.arange(2))\n",
    "  ax[i].set_xticklabels(labels=('Ridge', 'RF'))"
   ]
  },
  {
   "cell_type": "markdown",
   "metadata": {
    "colab_type": "text",
    "id": "Ew3H_y0kVfVX"
   },
   "source": [
    "Como vemos, se obtiene un menor error, y mayor coeficiente de determinación R2 para el modelo Random Forest. \n",
    "\n",
    "Las diferencias en los errores son pequeñas, rondando 0,1 años para ambas métricas, siendo más notoria la diferencia para el coeficiente de determinación.\n",
    "\n",
    "A continuación, mostramos un *boxplot* a partir de las diferencias entre los valores predichos ($\\hat{y}$) y el *ground truth* ($y$), y un *scatter plot* mapeando cada par de valores."
   ]
  },
  {
   "cell_type": "code",
   "execution_count": 0,
   "metadata": {
    "colab": {
     "base_uri": "https://localhost:8080/",
     "height": 245
    },
    "colab_type": "code",
    "executionInfo": {
     "elapsed": 703263,
     "status": "ok",
     "timestamp": 1592276377339,
     "user": {
      "displayName": "Tomás Iaquinta",
      "photoUrl": "https://lh3.googleusercontent.com/a-/AOh14GiDufDMU2IyxoeIZNOG3EXUHhD6aybuBHh8A3qE1g=s64",
      "userId": "04399816156447454008"
     },
     "user_tz": 180
    },
    "id": "lRb7lcm_cA_W",
    "outputId": "389c9beb-7283-4d5a-e4f6-deb3632e6072"
   },
   "outputs": [
    {
     "data": {
      "image/png": "[encoded data removed]",
      "text/plain": [
       "<Figure size 720x216 with 1 Axes>"
      ]
     },
     "metadata": {
      "tags": []
     },
     "output_type": "display_data"
    }
   ],
   "source": [
    "fig, ax = plt.subplots(figsize=(10,3))\n",
    "ax.boxplot(np.transpose(pred_dif), notch=True, vert=False, widths=0.5)\n",
    "ax.set_xlabel('Error absoluto')\n",
    "ax.set_yticklabels(labels=('Ridge', 'RF'));"
   ]
  },
  {
   "cell_type": "markdown",
   "metadata": {
    "colab_type": "text",
    "id": "n8cwiIUqS_iy"
   },
   "source": [
    "Tal como se observa con las métricas, se ve un menor error para el Random Forest. A pesar de que tiene el outlier más lejano, la media, cuartiles y el último bigote son menores.\n",
    "\n"
   ]
  },
  {
   "cell_type": "code",
   "execution_count": 0,
   "metadata": {
    "colab": {
     "base_uri": "https://localhost:8080/",
     "height": 442
    },
    "colab_type": "code",
    "executionInfo": {
     "elapsed": 702963,
     "status": "ok",
     "timestamp": 1592276378469,
     "user": {
      "displayName": "Tomás Iaquinta",
      "photoUrl": "https://lh3.googleusercontent.com/a-/AOh14GiDufDMU2IyxoeIZNOG3EXUHhD6aybuBHh8A3qE1g=s64",
      "userId": "04399816156447454008"
     },
     "user_tz": 180
    },
    "id": "-vbCgtbGbvkN",
    "outputId": "92c966cb-9de2-44ad-a094-f4dbd9002f9a"
   },
   "outputs": [
    {
     "data": {
      "text/plain": [
       "Text(0.5, 0, '$y$ (Años)')"
      ]
     },
     "execution_count": 20,
     "metadata": {
      "tags": []
     },
     "output_type": "execute_result"
    },
    {
     "data": {
      "image/png": "[encoded data removed]",
      "text/plain": [
       "<Figure size 720x432 with 1 Axes>"
      ]
     },
     "metadata": {
      "tags": []
     },
     "output_type": "display_data"
    }
   ],
   "source": [
    "plt.scatter(y_test_st, y_test_hat_rf, label='RF', color='c', alpha=1/5, s=120)\n",
    "plt.scatter(y_test_st, y_test_hat_ridge, label='Ridge', color='m', alpha=1/5, linewidths=1, s=120)\n",
    "plt.plot([np.min(y_test_st), np.max(y_test_st)], [np.min(y_test_st), np.max(y_test_st)], '--', color='r', linewidth=1)\n",
    "plt.xlim([np.min(y_test_st)-1, np.max(y_test_st)+1])\n",
    "plt.ylim([np.min(y_test_st)-1, np.max(y_test_st)+1])\n",
    "plt.legend()\n",
    "plt.ylabel('$\\hat{y}$ (Años)')\n",
    "plt.xlabel('$y$ (Años)')"
   ]
  },
  {
   "cell_type": "markdown",
   "metadata": {
    "colab_type": "text",
    "id": "QiSP6ZyRGMEY"
   },
   "source": [
    "## 5.1 - Random Forest - Out-of-bag score"
   ]
  },
  {
   "cell_type": "markdown",
   "metadata": {
    "colab_type": "text",
    "id": "wXTnCENCCpG_"
   },
   "source": [
    "El modelo Random Forest permite obtener una medida del coeficiente de determinación, calculado a partir de los mismos datos de entrenamiento. Para esto, mide el error al predecir cierta instancia por un árbol que no fue entrenado con ella."
   ]
  },
  {
   "cell_type": "code",
   "execution_count": 0,
   "metadata": {
    "colab": {
     "base_uri": "https://localhost:8080/",
     "height": 72
    },
    "colab_type": "code",
    "executionInfo": {
     "elapsed": 687626,
     "status": "ok",
     "timestamp": 1592251929681,
     "user": {
      "displayName": "Tomás Iaquinta",
      "photoUrl": "https://lh3.googleusercontent.com/a-/AOh14GiDufDMU2IyxoeIZNOG3EXUHhD6aybuBHh8A3qE1g=s64",
      "userId": "04399816156447454008"
     },
     "user_tz": 180
    },
    "id": "6oTOck0MBJGJ",
    "outputId": "098c09b2-dc89-41bb-9b32-d5b8ef6e1b87"
   },
   "outputs": [
    {
     "name": "stdout",
     "output_type": "stream",
     "text": [
      "Out-of-bag score:  0.5486385126989524\n",
      "R2 con los datos de entrenamiento:  0.8250914680968034\n",
      "R2 con los datos de prueba:  0.5827029828962806\n"
     ]
    }
   ],
   "source": [
    "print('Out-of-bag score: ', best_rf.oob_score_)\n",
    "print('R2 con los datos de entrenamiento: ', best_rf.score(X_train_st, y_train_st))\n",
    "print('R2 con los datos de prueba: ', best_rf.score(X_test_st, y_test_st))"
   ]
  },
  {
   "cell_type": "markdown",
   "metadata": {
    "colab_type": "text",
    "id": "QJe3yMo-QIdF"
   },
   "source": [
    "Con el Out-of-bag score obtenemos una medida más acertada del rendimiento del modelo con ejemplos nuevos."
   ]
  },
  {
   "cell_type": "markdown",
   "metadata": {
    "colab_type": "text",
    "id": "b9V461J7HMSD"
   },
   "source": [
    "## 5.2 - Random Forest - Feature importance"
   ]
  },
  {
   "cell_type": "markdown",
   "metadata": {
    "colab_type": "text",
    "id": "GCzgsphPD_oL"
   },
   "source": [
    "Otra ventaja que ofrece este modelo es la de calcular el *feature importance*, que permite determinar qué tan útil es un atributo para predecir la variable."
   ]
  },
  {
   "cell_type": "code",
   "execution_count": 0,
   "metadata": {
    "colab": {
     "base_uri": "https://localhost:8080/",
     "height": 420
    },
    "colab_type": "code",
    "executionInfo": {
     "elapsed": 7711,
     "status": "ok",
     "timestamp": 1592277101251,
     "user": {
      "displayName": "Tomás Iaquinta",
      "photoUrl": "https://lh3.googleusercontent.com/a-/AOh14GiDufDMU2IyxoeIZNOG3EXUHhD6aybuBHh8A3qE1g=s64",
      "userId": "04399816156447454008"
     },
     "user_tz": 180
    },
    "id": "JE-NDZ4V7Kmq",
    "outputId": "f6b2000a-c2c1-4fb9-f779-4a2e691986ea"
   },
   "outputs": [
    {
     "data": {
      "image/png": "[encoded data removed]",
      "text/plain": [
       "<Figure size 720x432 with 1 Axes>"
      ]
     },
     "metadata": {
      "tags": []
     },
     "output_type": "display_data"
    }
   ],
   "source": [
    "fig, ax = plt.subplots()\n",
    "ax.barh(np.arange(8), best_rf.feature_importances_)\n",
    "ax.set_xlabel('Feature importance')\n",
    "ax.set_yticks(np.arange(8))\n",
    "ax.set_yticklabels(labels=X_features.values());"
   ]
  },
  {
   "cell_type": "markdown",
   "metadata": {
    "colab_type": "text",
    "id": "BTQ0V7bXGj1R"
   },
   "source": [
    "El *Shell weight* es el atríbuto más relevante, con una importancia relativa de más del 35%, seguida por *Shucked weight* y *Height* de menos del 15% de importancia."
   ]
  },
  {
   "cell_type": "markdown",
   "metadata": {
    "colab_type": "text",
    "id": "Gqv-nPZiG00I"
   },
   "source": [
    "## 5.3 - Ridge - Coeficientes "
   ]
  },
  {
   "cell_type": "markdown",
   "metadata": {
    "colab_type": "text",
    "id": "P7Ljr1qRG1K9"
   },
   "source": [
    "El Ridge Regressor calcula y devuelve los coeficientes para cada atríbuto, esto es, el peso relativo que tiene cada atributo al calcular la variable."
   ]
  },
  {
   "cell_type": "code",
   "execution_count": 0,
   "metadata": {
    "colab": {
     "base_uri": "https://localhost:8080/",
     "height": 420
    },
    "colab_type": "code",
    "executionInfo": {
     "elapsed": 1587,
     "status": "ok",
     "timestamp": 1592277282369,
     "user": {
      "displayName": "Tomás Iaquinta",
      "photoUrl": "https://lh3.googleusercontent.com/a-/AOh14GiDufDMU2IyxoeIZNOG3EXUHhD6aybuBHh8A3qE1g=s64",
      "userId": "04399816156447454008"
     },
     "user_tz": 180
    },
    "id": "6pWNd1bfG1d8",
    "outputId": "71abe79d-6025-48fe-f069-6c61c97afbd9"
   },
   "outputs": [
    {
     "data": {
      "image/png": "[encoded data removed]",
      "text/plain": [
       "<Figure size 720x432 with 1 Axes>"
      ]
     },
     "metadata": {
      "tags": []
     },
     "output_type": "display_data"
    }
   ],
   "source": [
    "fig, ax = plt.subplots()\n",
    "ax.barh(np.arange(8), best_ridge.coef_)\n",
    "ax.set_xlabel('Valor del coeficiente')\n",
    "ax.set_yticks(np.arange(8))\n",
    "ax.set_yticklabels(labels=X_features.values());"
   ]
  },
  {
   "cell_type": "markdown",
   "metadata": {
    "colab_type": "text",
    "id": "ZgFD4yYRIUA3"
   },
   "source": [
    "En este modelo el *Shell weight* tiene un valor bajo, ocurriendo lo mismo para el *Height*. Sí se observa un mayor peso para *Shucked* y *Whole weight*, teniendo el primero de estos un coeficiente negativo.\n",
    "\n",
    "Similar a lo que sucede con el Random Forest, los atributos *Length* y *Sex* no son relevantes para el modelo."
   ]
  },
  {
   "cell_type": "markdown",
   "metadata": {
    "colab_type": "text",
    "id": "WVImzvLLFurr"
   },
   "source": [
    "## 5.4 - Prueba con y sin estandarización"
   ]
  },
  {
   "cell_type": "markdown",
   "metadata": {
    "colab_type": "text",
    "id": "G_HL3g1BGKxp"
   },
   "source": [
    "Tal como se explicó en el práctico previo no existen grandes variaciones en los rangos de representación numérica de los atributos. A pesar de esto, se aplica estandarización para llevar las medias de los atibutos a 0 y sus desvíos estándar a 1.\n",
    "\n",
    "A continuación se vuelve a *fitear* al modelo de Random Forest, y se evalua sin eliminar los outliers y sin el proceso de estandarización."
   ]
  },
  {
   "cell_type": "code",
   "execution_count": 0,
   "metadata": {
    "colab": {
     "base_uri": "https://localhost:8080/",
     "height": 293
    },
    "colab_type": "code",
    "executionInfo": {
     "elapsed": 690890,
     "status": "ok",
     "timestamp": 1592251934638,
     "user": {
      "displayName": "Tomás Iaquinta",
      "photoUrl": "https://lh3.googleusercontent.com/a-/AOh14GiDufDMU2IyxoeIZNOG3EXUHhD6aybuBHh8A3qE1g=s64",
      "userId": "04399816156447454008"
     },
     "user_tz": 180
    },
    "id": "kK39mbjlA-Wi",
    "outputId": "b5b9429b-c94c-4f7c-8c20-135baa4bfe33"
   },
   "outputs": [
    {
     "name": "stdout",
     "output_type": "stream",
     "text": [
      "Sin estandarización\n",
      "=====\n",
      "\n",
      "Valores máximos:  [2.    0.815 0.65  0.25  2.78  1.351 0.76  1.005]\n",
      "Valores mínimos:  [0.    0.075 0.055 0.    0.002 0.001 0.001 0.002]\n",
      "Medias:           [0.981 0.517 0.402 0.137 0.804 0.349 0.176 0.231]\n",
      "Desvíos estándar: [0.834 0.125 0.104 0.04  0.491 0.221 0.111 0.14 ]\n",
      "\n",
      "Con estandarización\n",
      "=====\n",
      "\n",
      "Valores máximos:  [2.    2.447 2.469 2.571 3.963 4.445 5.299 5.499]\n",
      "Valores mínimos:  [ 0.    -3.839 -3.659 -3.296 -1.71  -1.635 -1.672 -1.734]\n",
      "Medias:           [ 0.981 -0.084 -0.081 -0.072 -0.071 -0.069 -0.063 -0.078]\n",
      "Desvíos estándar: [0.834 1.063 1.069 0.935 1.003 0.997 1.018 1.009]\n"
     ]
    }
   ],
   "source": [
    "print('Sin estandarización\\n' + 5*'=' + '\\n')\n",
    "print(f'Valores máximos:  {np.max(X_test, axis=0)}')\n",
    "print(f'Valores mínimos:  {np.min(X_test, axis=0)}')\n",
    "print(f'Medias:           {np.mean(X_test, axis=0)}')\n",
    "print(f'Desvíos estándar: {np.std(X_test, axis=0)}')\n",
    "\n",
    "print('\\nCon estandarización\\n' + 5*'=' + '\\n')\n",
    "print(f'Valores máximos:  {np.max(X_test_st, axis=0)}')\n",
    "print(f'Valores mínimos:  {np.min(X_test_st, axis=0)}')\n",
    "print(f'Medias:           {np.mean(X_test_st, axis=0)}')\n",
    "print(f'Desvíos estándar: {np.std(X_test_st, axis=0)}')"
   ]
  },
  {
   "cell_type": "code",
   "execution_count": 0,
   "metadata": {
    "colab": {
     "base_uri": "https://localhost:8080/",
     "height": 348
    },
    "colab_type": "code",
    "executionInfo": {
     "elapsed": 697430,
     "status": "ok",
     "timestamp": 1592251941303,
     "user": {
      "displayName": "Tomás Iaquinta",
      "photoUrl": "https://lh3.googleusercontent.com/a-/AOh14GiDufDMU2IyxoeIZNOG3EXUHhD6aybuBHh8A3qE1g=s64",
      "userId": "04399816156447454008"
     },
     "user_tz": 180
    },
    "id": "EnBpj3FWTyvs",
    "outputId": "f11832b0-e953-4d2b-b73d-6b77227d5c00"
   },
   "outputs": [
    {
     "name": "stdout",
     "output_type": "stream",
     "text": [
      "RMSE\n",
      "===============\n",
      "Sin estandarizar :  2.0916\n",
      "Con estandarización :  2.0911\n",
      "\n",
      "\n",
      "MAE\n",
      "===============\n",
      "Sin estandarizar :  1.4834\n",
      "Con estandarización :  1.4825\n",
      "\n",
      "\n",
      "R2\n",
      "===============\n",
      "Sin estandarizar :  0.5825\n",
      "Con estandarización :  0.5827\n",
      "\n",
      "\n"
     ]
    }
   ],
   "source": [
    "best_rf.fit(X_train, y_train)\n",
    "y_test_hat = best_rf.predict(X_test)\n",
    "\n",
    "best_rf_score_nost = {}\n",
    "\n",
    "best_rf_score_nost['RMSE'] = mean_squared_error(y_test, y_test_hat, squared=False)\n",
    "best_rf_score_nost['MAE'] = mean_absolute_error(y_test, y_test_hat)\n",
    "best_rf_score_nost['R2'] = best_rf.score(X_test, y_test)\n",
    "\n",
    "for key in best_rf_score:\n",
    "  print(key + '\\n' + 15*'=')\n",
    "  print('Sin estandarizar : ', np.around(best_rf_score_nost[key], 4))\n",
    "  print('Con estandarización : ', np.around(best_rf_score[key], 4))\n",
    "  print('\\n')"
   ]
  },
  {
   "cell_type": "markdown",
   "metadata": {
    "colab_type": "text",
    "id": "i585IA6TKjLc"
   },
   "source": [
    "Como vemos, la diferencia es muy pequeña, a pesar de los cual el error es mayor para ambas métricas sin estandarización, siendo el coeficiente de determinación menor."
   ]
  },
  {
   "cell_type": "markdown",
   "metadata": {
    "colab_type": "text",
    "id": "xMqAcho53nW2"
   },
   "source": [
    "# 6 - Conclusiones"
   ]
  },
  {
   "cell_type": "markdown",
   "metadata": {
    "colab_type": "text",
    "id": "K7s_J67r3pf1"
   },
   "source": [
    "A partir de lo observado y explicado en este trabajo, se extraen las siguientes conclusiones:\n",
    "\n",
    "* El modelo de Random Forest otorga un menor error, al evaluar tanto el *MAE* como el *RMSE*. Además, su coefiente de determinación **R2** es mayor. A pesar de esto, las diferencias en los errores no son sustanciales.\n",
    "* Para el regresor Ridge, la calibración es importante, dado que el error es muy alto para mayor importancia del regularizador.\n",
    "* Por otro lado, el proceso de *model selection* para Random Forest, no muestra grandes diferencias entre los parámetros utilizados. Es posible, a partir de lo realizado, ajustar y agregar nuevos parámetros, a modo de buscar un modelo con menor error.\n",
    "* Cabe considerar que este último modelo demanda una mayor cantidad de tiempo de computo al utilizar `GridSearchCV()`, dada la cantidad de parámetros a configurar (en este ejemplo tenemos 4\\*3\\*4\\*1 = 48 combinaciones de parámetros a computar). Una alternativa más rápida puede ser la de usar `RandomGridCV()` indicando menor cantidad de iteraciones.\n",
    "* El proceso de estandarización mejora los resultados, a pesar de esto, las diferencias son muy pequeñas. De requerir menor procesamiento (o uno más rápido), puede trabajarse directamente sobre el dateset *raw*. "
   ]
  }
 ],
 "metadata": {
  "colab": {
   "authorship_tag": "ABX9TyOE3RNlS2Q2cerXUUdaSQ68",
   "collapsed_sections": [],
   "name": "Tomás Iaquinta - TP Unidad 3.ipynb",
   "provenance": [
    {
     "file_id": "1MNXE8J1UF3gweq-BDEaHDbr-jx3XUZsW",
     "timestamp": 1591488135360
    }
   ],
   "toc_visible": true
  },
  "kernelspec": {
   "display_name": "Python 3",
   "language": "python",
   "name": "python3"
  },
  "language_info": {
   "codemirror_mode": {
    "name": "ipython",
    "version": 3
   },
   "file_extension": ".py",
   "mimetype": "text/x-python",
   "name": "python",
   "nbconvert_exporter": "python",
   "pygments_lexer": "ipython3",
   "version": "3.7.7"
  }
 },
 "nbformat": 4,
 "nbformat_minor": 1
}
